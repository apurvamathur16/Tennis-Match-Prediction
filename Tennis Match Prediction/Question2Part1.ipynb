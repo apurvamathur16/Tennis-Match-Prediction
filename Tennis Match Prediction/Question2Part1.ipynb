{
 "cells": [
  {
   "cell_type": "code",
   "execution_count": 242,
   "metadata": {},
   "outputs": [],
   "source": [
    "import numpy as np\n",
    "import pandas as pd"
   ]
  },
  {
   "cell_type": "code",
   "execution_count": 243,
   "metadata": {},
   "outputs": [],
   "source": [
    "PATH = '/data/'\n",
    "ext = '.csv'\n",
    "#full data from 1991\n",
    "start1 = 1991 #1968\n",
    "end1 = 2018\n",
    "ft1 = 'atp_matches_'\n",
    "\n",
    "start2 = 1991\n",
    "end2 = 2017\n",
    "ft2 = 'atp_matches_futures_'\n",
    "\n",
    "\n",
    "start3 = 1991\n",
    "end3 = 2018\n",
    "ft3 = 'atp_matches_qual_chall_'\n",
    "\n",
    "players = 'atp_players.csv'\n",
    "\n",
    "rankings = ['atp_rankings_00s.csv','atp_rankings_10s.csv','atp_rankings_70s.csv','atp_rankings_80s.csv','atp_rankings_90s.csv',\n",
    "            'atp_rankings_current.csv']"
   ]
  },
  {
   "cell_type": "code",
   "execution_count": 244,
   "metadata": {},
   "outputs": [],
   "source": [
    "def readfiles(ft,st,en):\n",
    "    l = []\n",
    "    for i in range(st,en+1):\n",
    "        p = ft + str(i)+ ext\n",
    "        print(p)\n",
    "        df = pd.read_csv(p)\n",
    "        l.append(df)\n",
    "        #print(df.head(2))\n",
    "    return l"
   ]
  },
  {
   "cell_type": "code",
   "execution_count": 245,
   "metadata": {},
   "outputs": [
    {
     "name": "stdout",
     "output_type": "stream",
     "text": [
      "atp_matches_1991.csv\n",
      "atp_matches_1992.csv\n",
      "atp_matches_1993.csv\n",
      "atp_matches_1994.csv\n",
      "atp_matches_1995.csv\n",
      "atp_matches_1996.csv\n",
      "atp_matches_1997.csv\n",
      "atp_matches_1998.csv\n",
      "atp_matches_1999.csv\n",
      "atp_matches_2000.csv\n",
      "atp_matches_2001.csv\n",
      "atp_matches_2002.csv\n",
      "atp_matches_2003.csv\n",
      "atp_matches_2004.csv\n",
      "atp_matches_2005.csv\n",
      "atp_matches_2006.csv\n",
      "atp_matches_2007.csv\n",
      "atp_matches_2008.csv\n",
      "atp_matches_2009.csv\n",
      "atp_matches_2010.csv\n",
      "atp_matches_2011.csv\n",
      "atp_matches_2012.csv\n",
      "atp_matches_2013.csv\n",
      "atp_matches_2014.csv\n",
      "atp_matches_2015.csv\n",
      "atp_matches_2016.csv\n",
      "atp_matches_2017.csv\n",
      "atp_matches_2018.csv\n"
     ]
    }
   ],
   "source": [
    "f1 = readfiles(ft1,start1,end1)"
   ]
  },
  {
   "cell_type": "code",
   "execution_count": 246,
   "metadata": {},
   "outputs": [],
   "source": [
    "all_matches = pd.concat(f1)"
   ]
  },
  {
   "cell_type": "code",
   "execution_count": 247,
   "metadata": {},
   "outputs": [
    {
     "name": "stdout",
     "output_type": "stream",
     "text": [
      "  tourney_id tourney_name surface  draw_size tourney_level  tourney_date  \\\n",
      "0   1991-475   San Marino    Clay       32.0             A    19910729.0   \n",
      "1   1991-475   San Marino    Clay       32.0             A    19910729.0   \n",
      "2   1991-475   San Marino    Clay       32.0             A    19910729.0   \n",
      "3   1991-475   San Marino    Clay       32.0             A    19910729.0   \n",
      "4   1991-475   San Marino    Clay       32.0             A    19910729.0   \n",
      "\n",
      "   match_num  winner_id  winner_seed winner_entry    ...    w_bpFaced l_ace  \\\n",
      "0        1.0   101649.0          1.0          NaN    ...          1.0   0.0   \n",
      "1        2.0   101035.0          NaN            Q    ...          1.0   1.0   \n",
      "2        3.0   101534.0          NaN          NaN    ...          5.0   0.0   \n",
      "3        4.0   101475.0          NaN          NaN    ...          7.0   0.0   \n",
      "4        5.0   101686.0          4.0          NaN    ...          1.0   0.0   \n",
      "\n",
      "   l_df l_svpt  l_1stIn  l_1stWon  l_2ndWon  l_SvGms  l_bpSaved l_bpFaced  \n",
      "0   2.0   40.0     22.0       9.0       6.0      6.0        7.0      12.0  \n",
      "1   3.0   34.0     17.0       6.0       6.0      6.0        1.0       6.0  \n",
      "2   0.0   54.0     42.0      15.0       4.0      8.0        6.0      13.0  \n",
      "3   4.0   69.0     46.0      29.0       9.0     11.0        3.0       7.0  \n",
      "4   2.0   44.0     18.0       6.0      11.0      7.0        2.0       7.0  \n",
      "\n",
      "[5 rows x 49 columns]\n"
     ]
    }
   ],
   "source": [
    "print(all_matches.head())"
   ]
  },
  {
   "cell_type": "code",
   "execution_count": 248,
   "metadata": {},
   "outputs": [
    {
     "data": {
      "text/plain": [
       "(92020, 49)"
      ]
     },
     "execution_count": 248,
     "metadata": {},
     "output_type": "execute_result"
    }
   ],
   "source": [
    "all_matches.shape"
   ]
  },
  {
   "cell_type": "code",
   "execution_count": 249,
   "metadata": {},
   "outputs": [
    {
     "data": {
      "text/html": [
       "<div>\n",
       "<style scoped>\n",
       "    .dataframe tbody tr th:only-of-type {\n",
       "        vertical-align: middle;\n",
       "    }\n",
       "\n",
       "    .dataframe tbody tr th {\n",
       "        vertical-align: top;\n",
       "    }\n",
       "\n",
       "    .dataframe thead th {\n",
       "        text-align: right;\n",
       "    }\n",
       "</style>\n",
       "<table border=\"1\" class=\"dataframe\">\n",
       "  <thead>\n",
       "    <tr style=\"text-align: right;\">\n",
       "      <th></th>\n",
       "      <th>tourney_id</th>\n",
       "      <th>tourney_name</th>\n",
       "      <th>surface</th>\n",
       "      <th>draw_size</th>\n",
       "      <th>tourney_level</th>\n",
       "      <th>tourney_date</th>\n",
       "      <th>match_num</th>\n",
       "      <th>winner_id</th>\n",
       "      <th>winner_seed</th>\n",
       "      <th>winner_entry</th>\n",
       "      <th>...</th>\n",
       "      <th>w_bpFaced</th>\n",
       "      <th>l_ace</th>\n",
       "      <th>l_df</th>\n",
       "      <th>l_svpt</th>\n",
       "      <th>l_1stIn</th>\n",
       "      <th>l_1stWon</th>\n",
       "      <th>l_2ndWon</th>\n",
       "      <th>l_SvGms</th>\n",
       "      <th>l_bpSaved</th>\n",
       "      <th>l_bpFaced</th>\n",
       "    </tr>\n",
       "  </thead>\n",
       "  <tbody>\n",
       "    <tr>\n",
       "      <th>0</th>\n",
       "      <td>1991-475</td>\n",
       "      <td>San Marino</td>\n",
       "      <td>Clay</td>\n",
       "      <td>32.0</td>\n",
       "      <td>A</td>\n",
       "      <td>19910729.0</td>\n",
       "      <td>1.0</td>\n",
       "      <td>101649.0</td>\n",
       "      <td>1.0</td>\n",
       "      <td>NaN</td>\n",
       "      <td>...</td>\n",
       "      <td>1.0</td>\n",
       "      <td>0.0</td>\n",
       "      <td>2.0</td>\n",
       "      <td>40.0</td>\n",
       "      <td>22.0</td>\n",
       "      <td>9.0</td>\n",
       "      <td>6.0</td>\n",
       "      <td>6.0</td>\n",
       "      <td>7.0</td>\n",
       "      <td>12.0</td>\n",
       "    </tr>\n",
       "    <tr>\n",
       "      <th>1</th>\n",
       "      <td>1991-475</td>\n",
       "      <td>San Marino</td>\n",
       "      <td>Clay</td>\n",
       "      <td>32.0</td>\n",
       "      <td>A</td>\n",
       "      <td>19910729.0</td>\n",
       "      <td>2.0</td>\n",
       "      <td>101035.0</td>\n",
       "      <td>NaN</td>\n",
       "      <td>Q</td>\n",
       "      <td>...</td>\n",
       "      <td>1.0</td>\n",
       "      <td>1.0</td>\n",
       "      <td>3.0</td>\n",
       "      <td>34.0</td>\n",
       "      <td>17.0</td>\n",
       "      <td>6.0</td>\n",
       "      <td>6.0</td>\n",
       "      <td>6.0</td>\n",
       "      <td>1.0</td>\n",
       "      <td>6.0</td>\n",
       "    </tr>\n",
       "    <tr>\n",
       "      <th>2</th>\n",
       "      <td>1991-475</td>\n",
       "      <td>San Marino</td>\n",
       "      <td>Clay</td>\n",
       "      <td>32.0</td>\n",
       "      <td>A</td>\n",
       "      <td>19910729.0</td>\n",
       "      <td>3.0</td>\n",
       "      <td>101534.0</td>\n",
       "      <td>NaN</td>\n",
       "      <td>NaN</td>\n",
       "      <td>...</td>\n",
       "      <td>5.0</td>\n",
       "      <td>0.0</td>\n",
       "      <td>0.0</td>\n",
       "      <td>54.0</td>\n",
       "      <td>42.0</td>\n",
       "      <td>15.0</td>\n",
       "      <td>4.0</td>\n",
       "      <td>8.0</td>\n",
       "      <td>6.0</td>\n",
       "      <td>13.0</td>\n",
       "    </tr>\n",
       "    <tr>\n",
       "      <th>3</th>\n",
       "      <td>1991-475</td>\n",
       "      <td>San Marino</td>\n",
       "      <td>Clay</td>\n",
       "      <td>32.0</td>\n",
       "      <td>A</td>\n",
       "      <td>19910729.0</td>\n",
       "      <td>4.0</td>\n",
       "      <td>101475.0</td>\n",
       "      <td>NaN</td>\n",
       "      <td>NaN</td>\n",
       "      <td>...</td>\n",
       "      <td>7.0</td>\n",
       "      <td>0.0</td>\n",
       "      <td>4.0</td>\n",
       "      <td>69.0</td>\n",
       "      <td>46.0</td>\n",
       "      <td>29.0</td>\n",
       "      <td>9.0</td>\n",
       "      <td>11.0</td>\n",
       "      <td>3.0</td>\n",
       "      <td>7.0</td>\n",
       "    </tr>\n",
       "    <tr>\n",
       "      <th>4</th>\n",
       "      <td>1991-475</td>\n",
       "      <td>San Marino</td>\n",
       "      <td>Clay</td>\n",
       "      <td>32.0</td>\n",
       "      <td>A</td>\n",
       "      <td>19910729.0</td>\n",
       "      <td>5.0</td>\n",
       "      <td>101686.0</td>\n",
       "      <td>4.0</td>\n",
       "      <td>NaN</td>\n",
       "      <td>...</td>\n",
       "      <td>1.0</td>\n",
       "      <td>0.0</td>\n",
       "      <td>2.0</td>\n",
       "      <td>44.0</td>\n",
       "      <td>18.0</td>\n",
       "      <td>6.0</td>\n",
       "      <td>11.0</td>\n",
       "      <td>7.0</td>\n",
       "      <td>2.0</td>\n",
       "      <td>7.0</td>\n",
       "    </tr>\n",
       "  </tbody>\n",
       "</table>\n",
       "<p>5 rows × 49 columns</p>\n",
       "</div>"
      ],
      "text/plain": [
       "  tourney_id tourney_name surface  draw_size tourney_level  tourney_date  \\\n",
       "0   1991-475   San Marino    Clay       32.0             A    19910729.0   \n",
       "1   1991-475   San Marino    Clay       32.0             A    19910729.0   \n",
       "2   1991-475   San Marino    Clay       32.0             A    19910729.0   \n",
       "3   1991-475   San Marino    Clay       32.0             A    19910729.0   \n",
       "4   1991-475   San Marino    Clay       32.0             A    19910729.0   \n",
       "\n",
       "   match_num  winner_id  winner_seed winner_entry    ...    w_bpFaced l_ace  \\\n",
       "0        1.0   101649.0          1.0          NaN    ...          1.0   0.0   \n",
       "1        2.0   101035.0          NaN            Q    ...          1.0   1.0   \n",
       "2        3.0   101534.0          NaN          NaN    ...          5.0   0.0   \n",
       "3        4.0   101475.0          NaN          NaN    ...          7.0   0.0   \n",
       "4        5.0   101686.0          4.0          NaN    ...          1.0   0.0   \n",
       "\n",
       "   l_df l_svpt  l_1stIn  l_1stWon  l_2ndWon  l_SvGms  l_bpSaved l_bpFaced  \n",
       "0   2.0   40.0     22.0       9.0       6.0      6.0        7.0      12.0  \n",
       "1   3.0   34.0     17.0       6.0       6.0      6.0        1.0       6.0  \n",
       "2   0.0   54.0     42.0      15.0       4.0      8.0        6.0      13.0  \n",
       "3   4.0   69.0     46.0      29.0       9.0     11.0        3.0       7.0  \n",
       "4   2.0   44.0     18.0       6.0      11.0      7.0        2.0       7.0  \n",
       "\n",
       "[5 rows x 49 columns]"
      ]
     },
     "execution_count": 249,
     "metadata": {},
     "output_type": "execute_result"
    }
   ],
   "source": [
    "all_matches.head()"
   ]
  },
  {
   "cell_type": "code",
   "execution_count": 250,
   "metadata": {},
   "outputs": [
    {
     "data": {
      "text/html": [
       "<div>\n",
       "<style scoped>\n",
       "    .dataframe tbody tr th:only-of-type {\n",
       "        vertical-align: middle;\n",
       "    }\n",
       "\n",
       "    .dataframe tbody tr th {\n",
       "        vertical-align: top;\n",
       "    }\n",
       "\n",
       "    .dataframe thead th {\n",
       "        text-align: right;\n",
       "    }\n",
       "</style>\n",
       "<table border=\"1\" class=\"dataframe\">\n",
       "  <thead>\n",
       "    <tr style=\"text-align: right;\">\n",
       "      <th></th>\n",
       "      <th>draw_size</th>\n",
       "      <th>tourney_date</th>\n",
       "      <th>match_num</th>\n",
       "      <th>winner_id</th>\n",
       "      <th>winner_seed</th>\n",
       "      <th>winner_ht</th>\n",
       "      <th>winner_age</th>\n",
       "      <th>winner_rank</th>\n",
       "      <th>winner_rank_points</th>\n",
       "      <th>loser_id</th>\n",
       "      <th>...</th>\n",
       "      <th>w_bpFaced</th>\n",
       "      <th>l_ace</th>\n",
       "      <th>l_df</th>\n",
       "      <th>l_svpt</th>\n",
       "      <th>l_1stIn</th>\n",
       "      <th>l_1stWon</th>\n",
       "      <th>l_2ndWon</th>\n",
       "      <th>l_SvGms</th>\n",
       "      <th>l_bpSaved</th>\n",
       "      <th>l_bpFaced</th>\n",
       "    </tr>\n",
       "  </thead>\n",
       "  <tbody>\n",
       "    <tr>\n",
       "      <th>count</th>\n",
       "      <td>91957.000000</td>\n",
       "      <td>9.195700e+04</td>\n",
       "      <td>91957.000000</td>\n",
       "      <td>91957.000000</td>\n",
       "      <td>37141.000000</td>\n",
       "      <td>86312.000000</td>\n",
       "      <td>91863.000000</td>\n",
       "      <td>89138.000000</td>\n",
       "      <td>89138.000000</td>\n",
       "      <td>91957.000000</td>\n",
       "      <td>...</td>\n",
       "      <td>82354.000000</td>\n",
       "      <td>82354.000000</td>\n",
       "      <td>82354.000000</td>\n",
       "      <td>82354.000000</td>\n",
       "      <td>82354.000000</td>\n",
       "      <td>82354.000000</td>\n",
       "      <td>82354.000000</td>\n",
       "      <td>82354.00000</td>\n",
       "      <td>82354.00000</td>\n",
       "      <td>82354.000000</td>\n",
       "    </tr>\n",
       "    <tr>\n",
       "      <th>mean</th>\n",
       "      <td>52.479866</td>\n",
       "      <td>2.003720e+07</td>\n",
       "      <td>44.643138</td>\n",
       "      <td>103487.274737</td>\n",
       "      <td>6.815137</td>\n",
       "      <td>185.365998</td>\n",
       "      <td>25.656564</td>\n",
       "      <td>82.289338</td>\n",
       "      <td>1367.587157</td>\n",
       "      <td>103669.718814</td>\n",
       "      <td>...</td>\n",
       "      <td>5.184484</td>\n",
       "      <td>4.756587</td>\n",
       "      <td>3.513721</td>\n",
       "      <td>80.730808</td>\n",
       "      <td>47.684411</td>\n",
       "      <td>31.641560</td>\n",
       "      <td>15.024455</td>\n",
       "      <td>12.04630</td>\n",
       "      <td>4.81055</td>\n",
       "      <td>8.762027</td>\n",
       "    </tr>\n",
       "    <tr>\n",
       "      <th>std</th>\n",
       "      <td>37.929683</td>\n",
       "      <td>8.063131e+04</td>\n",
       "      <td>69.700276</td>\n",
       "      <td>3554.097016</td>\n",
       "      <td>6.083826</td>\n",
       "      <td>6.672948</td>\n",
       "      <td>3.644286</td>\n",
       "      <td>138.540429</td>\n",
       "      <td>1697.471483</td>\n",
       "      <td>4656.398065</td>\n",
       "      <td>...</td>\n",
       "      <td>4.063755</td>\n",
       "      <td>4.598634</td>\n",
       "      <td>2.628285</td>\n",
       "      <td>29.509406</td>\n",
       "      <td>19.369342</td>\n",
       "      <td>14.430257</td>\n",
       "      <td>7.259284</td>\n",
       "      <td>4.19923</td>\n",
       "      <td>3.27229</td>\n",
       "      <td>4.125754</td>\n",
       "    </tr>\n",
       "    <tr>\n",
       "      <th>min</th>\n",
       "      <td>4.000000</td>\n",
       "      <td>1.990123e+07</td>\n",
       "      <td>1.000000</td>\n",
       "      <td>100284.000000</td>\n",
       "      <td>1.000000</td>\n",
       "      <td>160.000000</td>\n",
       "      <td>14.351814</td>\n",
       "      <td>1.000000</td>\n",
       "      <td>1.000000</td>\n",
       "      <td>100282.000000</td>\n",
       "      <td>...</td>\n",
       "      <td>0.000000</td>\n",
       "      <td>0.000000</td>\n",
       "      <td>0.000000</td>\n",
       "      <td>0.000000</td>\n",
       "      <td>0.000000</td>\n",
       "      <td>0.000000</td>\n",
       "      <td>0.000000</td>\n",
       "      <td>0.00000</td>\n",
       "      <td>-6.00000</td>\n",
       "      <td>0.000000</td>\n",
       "    </tr>\n",
       "    <tr>\n",
       "      <th>25%</th>\n",
       "      <td>32.000000</td>\n",
       "      <td>1.997011e+07</td>\n",
       "      <td>8.000000</td>\n",
       "      <td>101990.000000</td>\n",
       "      <td>2.000000</td>\n",
       "      <td>180.000000</td>\n",
       "      <td>22.954141</td>\n",
       "      <td>18.000000</td>\n",
       "      <td>511.000000</td>\n",
       "      <td>102002.000000</td>\n",
       "      <td>...</td>\n",
       "      <td>2.000000</td>\n",
       "      <td>2.000000</td>\n",
       "      <td>2.000000</td>\n",
       "      <td>59.000000</td>\n",
       "      <td>34.000000</td>\n",
       "      <td>21.000000</td>\n",
       "      <td>10.000000</td>\n",
       "      <td>9.00000</td>\n",
       "      <td>2.00000</td>\n",
       "      <td>6.000000</td>\n",
       "    </tr>\n",
       "    <tr>\n",
       "      <th>50%</th>\n",
       "      <td>32.000000</td>\n",
       "      <td>2.003091e+07</td>\n",
       "      <td>21.000000</td>\n",
       "      <td>103206.000000</td>\n",
       "      <td>5.000000</td>\n",
       "      <td>185.000000</td>\n",
       "      <td>25.437372</td>\n",
       "      <td>46.000000</td>\n",
       "      <td>850.000000</td>\n",
       "      <td>103185.000000</td>\n",
       "      <td>...</td>\n",
       "      <td>4.000000</td>\n",
       "      <td>4.000000</td>\n",
       "      <td>3.000000</td>\n",
       "      <td>75.000000</td>\n",
       "      <td>44.000000</td>\n",
       "      <td>29.000000</td>\n",
       "      <td>14.000000</td>\n",
       "      <td>11.00000</td>\n",
       "      <td>4.00000</td>\n",
       "      <td>8.000000</td>\n",
       "    </tr>\n",
       "    <tr>\n",
       "      <th>75%</th>\n",
       "      <td>64.000000</td>\n",
       "      <td>2.011012e+07</td>\n",
       "      <td>41.000000</td>\n",
       "      <td>104417.000000</td>\n",
       "      <td>8.000000</td>\n",
       "      <td>190.000000</td>\n",
       "      <td>28.104038</td>\n",
       "      <td>90.000000</td>\n",
       "      <td>1538.000000</td>\n",
       "      <td>104433.000000</td>\n",
       "      <td>...</td>\n",
       "      <td>7.000000</td>\n",
       "      <td>7.000000</td>\n",
       "      <td>5.000000</td>\n",
       "      <td>96.000000</td>\n",
       "      <td>58.000000</td>\n",
       "      <td>39.000000</td>\n",
       "      <td>19.000000</td>\n",
       "      <td>15.00000</td>\n",
       "      <td>7.00000</td>\n",
       "      <td>11.000000</td>\n",
       "    </tr>\n",
       "    <tr>\n",
       "      <th>max</th>\n",
       "      <td>128.000000</td>\n",
       "      <td>2.018092e+07</td>\n",
       "      <td>701.000000</td>\n",
       "      <td>208029.000000</td>\n",
       "      <td>35.000000</td>\n",
       "      <td>208.000000</td>\n",
       "      <td>42.792608</td>\n",
       "      <td>2101.000000</td>\n",
       "      <td>16950.000000</td>\n",
       "      <td>207973.000000</td>\n",
       "      <td>...</td>\n",
       "      <td>34.000000</td>\n",
       "      <td>103.000000</td>\n",
       "      <td>26.000000</td>\n",
       "      <td>489.000000</td>\n",
       "      <td>328.000000</td>\n",
       "      <td>284.000000</td>\n",
       "      <td>101.000000</td>\n",
       "      <td>91.00000</td>\n",
       "      <td>28.00000</td>\n",
       "      <td>35.000000</td>\n",
       "    </tr>\n",
       "  </tbody>\n",
       "</table>\n",
       "<p>8 rows × 35 columns</p>\n",
       "</div>"
      ],
      "text/plain": [
       "          draw_size  tourney_date     match_num      winner_id   winner_seed  \\\n",
       "count  91957.000000  9.195700e+04  91957.000000   91957.000000  37141.000000   \n",
       "mean      52.479866  2.003720e+07     44.643138  103487.274737      6.815137   \n",
       "std       37.929683  8.063131e+04     69.700276    3554.097016      6.083826   \n",
       "min        4.000000  1.990123e+07      1.000000  100284.000000      1.000000   \n",
       "25%       32.000000  1.997011e+07      8.000000  101990.000000      2.000000   \n",
       "50%       32.000000  2.003091e+07     21.000000  103206.000000      5.000000   \n",
       "75%       64.000000  2.011012e+07     41.000000  104417.000000      8.000000   \n",
       "max      128.000000  2.018092e+07    701.000000  208029.000000     35.000000   \n",
       "\n",
       "          winner_ht    winner_age   winner_rank  winner_rank_points  \\\n",
       "count  86312.000000  91863.000000  89138.000000        89138.000000   \n",
       "mean     185.365998     25.656564     82.289338         1367.587157   \n",
       "std        6.672948      3.644286    138.540429         1697.471483   \n",
       "min      160.000000     14.351814      1.000000            1.000000   \n",
       "25%      180.000000     22.954141     18.000000          511.000000   \n",
       "50%      185.000000     25.437372     46.000000          850.000000   \n",
       "75%      190.000000     28.104038     90.000000         1538.000000   \n",
       "max      208.000000     42.792608   2101.000000        16950.000000   \n",
       "\n",
       "            loser_id      ...          w_bpFaced         l_ace          l_df  \\\n",
       "count   91957.000000      ...       82354.000000  82354.000000  82354.000000   \n",
       "mean   103669.718814      ...           5.184484      4.756587      3.513721   \n",
       "std      4656.398065      ...           4.063755      4.598634      2.628285   \n",
       "min    100282.000000      ...           0.000000      0.000000      0.000000   \n",
       "25%    102002.000000      ...           2.000000      2.000000      2.000000   \n",
       "50%    103185.000000      ...           4.000000      4.000000      3.000000   \n",
       "75%    104433.000000      ...           7.000000      7.000000      5.000000   \n",
       "max    207973.000000      ...          34.000000    103.000000     26.000000   \n",
       "\n",
       "             l_svpt       l_1stIn      l_1stWon      l_2ndWon      l_SvGms  \\\n",
       "count  82354.000000  82354.000000  82354.000000  82354.000000  82354.00000   \n",
       "mean      80.730808     47.684411     31.641560     15.024455     12.04630   \n",
       "std       29.509406     19.369342     14.430257      7.259284      4.19923   \n",
       "min        0.000000      0.000000      0.000000      0.000000      0.00000   \n",
       "25%       59.000000     34.000000     21.000000     10.000000      9.00000   \n",
       "50%       75.000000     44.000000     29.000000     14.000000     11.00000   \n",
       "75%       96.000000     58.000000     39.000000     19.000000     15.00000   \n",
       "max      489.000000    328.000000    284.000000    101.000000     91.00000   \n",
       "\n",
       "         l_bpSaved     l_bpFaced  \n",
       "count  82354.00000  82354.000000  \n",
       "mean       4.81055      8.762027  \n",
       "std        3.27229      4.125754  \n",
       "min       -6.00000      0.000000  \n",
       "25%        2.00000      6.000000  \n",
       "50%        4.00000      8.000000  \n",
       "75%        7.00000     11.000000  \n",
       "max       28.00000     35.000000  \n",
       "\n",
       "[8 rows x 35 columns]"
      ]
     },
     "execution_count": 250,
     "metadata": {},
     "output_type": "execute_result"
    }
   ],
   "source": [
    "all_matches.describe()"
   ]
  },
  {
   "cell_type": "code",
   "execution_count": 251,
   "metadata": {},
   "outputs": [
    {
     "name": "stdout",
     "output_type": "stream",
     "text": [
      "<class 'pandas.core.frame.DataFrame'>\n",
      "Int64Index: 92020 entries, 0 to 2493\n",
      "Data columns (total 49 columns):\n",
      "tourney_id            91957 non-null object\n",
      "tourney_name          91957 non-null object\n",
      "surface               91839 non-null object\n",
      "draw_size             91957 non-null float64\n",
      "tourney_level         91957 non-null object\n",
      "tourney_date          91957 non-null float64\n",
      "match_num             91957 non-null float64\n",
      "winner_id             91957 non-null float64\n",
      "winner_seed           37141 non-null float64\n",
      "winner_entry          10746 non-null object\n",
      "winner_name           91957 non-null object\n",
      "winner_hand           91939 non-null object\n",
      "winner_ht             86312 non-null float64\n",
      "winner_ioc            91957 non-null object\n",
      "winner_age            91863 non-null float64\n",
      "winner_rank           89138 non-null float64\n",
      "winner_rank_points    89138 non-null float64\n",
      "loser_id              91957 non-null float64\n",
      "loser_seed            20154 non-null float64\n",
      "loser_entry           17943 non-null object\n",
      "loser_name            91957 non-null object\n",
      "loser_hand            91914 non-null object\n",
      "loser_ht              82921 non-null float64\n",
      "loser_ioc             91957 non-null object\n",
      "loser_age             91747 non-null float64\n",
      "loser_rank            87963 non-null float64\n",
      "loser_rank_points     87963 non-null float64\n",
      "score                 91955 non-null object\n",
      "best_of               91957 non-null float64\n",
      "round                 91957 non-null object\n",
      "minutes               79821 non-null float64\n",
      "w_ace                 82354 non-null float64\n",
      "w_df                  82354 non-null float64\n",
      "w_svpt                82354 non-null float64\n",
      "w_1stIn               82354 non-null float64\n",
      "w_1stWon              82354 non-null float64\n",
      "w_2ndWon              82354 non-null float64\n",
      "w_SvGms               82354 non-null float64\n",
      "w_bpSaved             82354 non-null float64\n",
      "w_bpFaced             82354 non-null float64\n",
      "l_ace                 82354 non-null float64\n",
      "l_df                  82354 non-null float64\n",
      "l_svpt                82354 non-null float64\n",
      "l_1stIn               82354 non-null float64\n",
      "l_1stWon              82354 non-null float64\n",
      "l_2ndWon              82354 non-null float64\n",
      "l_SvGms               82354 non-null float64\n",
      "l_bpSaved             82354 non-null float64\n",
      "l_bpFaced             82354 non-null float64\n",
      "dtypes: float64(35), object(14)\n",
      "memory usage: 35.1+ MB\n",
      "shape is  (91957, 49)\n"
     ]
    }
   ],
   "source": [
    "all_matches.info()\n",
    "all_matches=all_matches.dropna(axis=0,how='all')\n",
    "print(\"shape is \",all_matches.shape)"
   ]
  },
  {
   "cell_type": "code",
   "execution_count": 252,
   "metadata": {},
   "outputs": [],
   "source": [
    "winnerRankPoints=all_matches['winner_rank_points'].tolist()\n",
    "loserRankPoints=all_matches['loser_rank_points'].tolist()\n",
    "winnerid=all_matches['winner_id'].tolist()\n",
    "loserid=all_matches['loser_id'].tolist()\n",
    "tourneyids=all_matches['tourney_id'].tolist()\n"
   ]
  },
  {
   "cell_type": "code",
   "execution_count": 253,
   "metadata": {},
   "outputs": [],
   "source": [
    "for i in range(len(tourneyids)):\n",
    "        date=tourneyids[i]\n",
    "        temp=date.split('-')\n",
    "        tourneyids[i]=temp[0]"
   ]
  },
  {
   "cell_type": "code",
   "execution_count": 254,
   "metadata": {},
   "outputs": [],
   "source": [
    "playerYearDic={}\n",
    "for i in range(len(winnerid)):\n",
    "    key1=str(int(winnerid[i]))+tourneyids[i]\n",
    "    key2=str(int(loserid[i]))+tourneyids[i]\n",
    "    if key1 not in playerYearDic:\n",
    "         playerYearDic[key1]=[winnerRankPoints[i],winnerRankPoints[i]]\n",
    "    else:\n",
    "         playerYearDic[key1].append(winnerRankPoints[i])\n",
    "    if key2 not in playerYearDic:\n",
    "         playerYearDic[key2]=[loserRankPoints[i],loserRankPoints[i]]\n",
    "    else:\n",
    "         playerYearDic[key2].append(loserRankPoints[i])"
   ]
  },
  {
   "cell_type": "code",
   "execution_count": 255,
   "metadata": {},
   "outputs": [],
   "source": [
    "winnerBeforeMatch,loserBeforeMatch=[],[]\n",
    "for i in range(len(winnerid)):\n",
    "    key1=str(int(winnerid[i]))+tourneyids[i]\n",
    "    key2=str(int(loserid[i]))+tourneyids[i]\n",
    "    winnerBeforeMatch.append(playerYearDic[key1][0])\n",
    "    playerYearDic[key1].pop(0)\n",
    "    loserBeforeMatch.append(playerYearDic[key2][0])\n",
    "    playerYearDic[key2].pop(0)\n"
   ]
  },
  {
   "cell_type": "code",
   "execution_count": 256,
   "metadata": {},
   "outputs": [],
   "source": [
    "all_matches['winner_rank_points']=pd.Series(winnerBeforeMatch, index=all_matches.index)\n",
    "all_matches['loser_rank_points']=pd.Series(loserBeforeMatch, index=all_matches.index)\n",
    "\n",
    "yw,yl=[],[]\n",
    "\n",
    "for i in range(len(winnerBeforeMatch)):\n",
    "    if winnerRankPoints[i]>winnerBeforeMatch[i]:\n",
    "        yw.append(1)    \n",
    "    elif winnerRankPoints[i]<winnerBeforeMatch[i]:\n",
    "        yw.append(-1)\n",
    "    else:\n",
    "        yw.append(0)\n",
    "    \n",
    "    \n",
    "    if loserRankPoints[i]>loserBeforeMatch[i]:\n",
    "        yl.append(1)    \n",
    "    elif loserRankPoints[i]<loserBeforeMatch[i]:\n",
    "        yl.append(-1)\n",
    "    else:\n",
    "        yl.append(0)\n",
    "\n",
    "all_matches.to_csv('projectfinal11.csv', encoding='utf-8', index=False)\n"
   ]
  },
  {
   "cell_type": "code",
   "execution_count": null,
   "metadata": {},
   "outputs": [],
   "source": []
  },
  {
   "cell_type": "code",
   "execution_count": 257,
   "metadata": {},
   "outputs": [],
   "source": [
    "all_matches.to_csv('winnerprojectfinal.csv', encoding='utf-8', index=False)\n",
    "all_matches.to_csv('loserprojectfinal.csv', encoding='utf-8', index=False)\n",
    "winnerPerspectiveDF=pd.read_csv('winnerprojectfinal.csv')\n",
    "loserPerspectiveDF=pd.read_csv('loserprojectfinal.csv')\n"
   ]
  },
  {
   "cell_type": "code",
   "execution_count": 258,
   "metadata": {},
   "outputs": [],
   "source": [
    "winnerPerspectiveDF['y'] = pd.Series(yw, index=winnerPerspectiveDF.index)\n",
    "loserPerspectiveDF['y'] = pd.Series(yl, index=loserPerspectiveDF.index)"
   ]
  },
  {
   "cell_type": "code",
   "execution_count": 259,
   "metadata": {},
   "outputs": [],
   "source": [
    "winnerPerspectiveDF.to_csv('winnerprojectfinal.csv', encoding='utf-8', index=False)\n",
    "loserPerspectiveDF.to_csv('loserprojectfinal.csv', encoding='utf-8', index=False)"
   ]
  },
  {
   "cell_type": "code",
   "execution_count": 260,
   "metadata": {},
   "outputs": [
    {
     "name": "stdout",
     "output_type": "stream",
     "text": [
      "['tourney_id', 'tourney_name', 'surface', 'draw_size', 'tourney_level', 'tourney_date', 'match_num', 'winner_id', 'winner_seed', 'winner_entry', 'winner_name', 'winner_hand', 'winner_ht', 'winner_ioc', 'winner_age', 'winner_rank', 'winner_rank_points', 'loser_id', 'loser_seed', 'loser_entry', 'loser_name', 'loser_hand', 'loser_ht', 'loser_ioc', 'loser_age', 'loser_rank', 'loser_rank_points', 'score', 'best_of', 'round', 'minutes', 'w_ace', 'w_df', 'w_svpt', 'w_1stIn', 'w_1stWon', 'w_2ndWon', 'w_SvGms', 'w_bpSaved', 'w_bpFaced', 'l_ace', 'l_df', 'l_svpt', 'l_1stIn', 'l_1stWon', 'l_2ndWon', 'l_SvGms', 'l_bpSaved', 'l_bpFaced', 'y']\n"
     ]
    }
   ],
   "source": [
    "a=list(winnerPerspectiveDF)\n",
    "print(a)"
   ]
  },
  {
   "cell_type": "code",
   "execution_count": 261,
   "metadata": {},
   "outputs": [],
   "source": [
    "to_drop = ['tourney_id','tourney_date','winner_id','winner_name','loser_id','loser_name','score']\n",
    "cat_cols = ['tourney_name','surface','draw_size','tourney_level','winner_entry','winner_hand','winner_ioc',\n",
    "            'loser_entry','loser_hand','loser_ioc','best_of','round']\n",
    "num_cols = ['match_num','winner_seed','winner_ht','winner_age','winner_rank','winner_rank_points',\n",
    "            'loser_seed','loser_ht','loser_age','loser_rank','loser_rank_points','minutes',\n",
    "            'w_ace','w_df','w_svpt','w_1stIn','w_1stWon','w_2ndWon','w_SvGms','w_bpSaved',\n",
    "             'w_bpFaced','l_ace','l_df','l_svpt','l_1stIn','l_1stWon','l_2ndWon','l_SvGms','l_bpSaved','l_bpFaced']\n"
   ]
  },
  {
   "cell_type": "code",
   "execution_count": 262,
   "metadata": {},
   "outputs": [
    {
     "data": {
      "text/html": [
       "<div>\n",
       "<style scoped>\n",
       "    .dataframe tbody tr th:only-of-type {\n",
       "        vertical-align: middle;\n",
       "    }\n",
       "\n",
       "    .dataframe tbody tr th {\n",
       "        vertical-align: top;\n",
       "    }\n",
       "\n",
       "    .dataframe thead th {\n",
       "        text-align: right;\n",
       "    }\n",
       "</style>\n",
       "<table border=\"1\" class=\"dataframe\">\n",
       "  <thead>\n",
       "    <tr style=\"text-align: right;\">\n",
       "      <th></th>\n",
       "      <th>tourney_id</th>\n",
       "      <th>tourney_date</th>\n",
       "      <th>match_num</th>\n",
       "      <th>winner_id</th>\n",
       "      <th>winner_seed</th>\n",
       "      <th>winner_name</th>\n",
       "      <th>winner_ht</th>\n",
       "      <th>winner_age</th>\n",
       "      <th>winner_rank</th>\n",
       "      <th>winner_rank_points</th>\n",
       "      <th>...</th>\n",
       "      <th>best_of_5.0</th>\n",
       "      <th>round_BR</th>\n",
       "      <th>round_F</th>\n",
       "      <th>round_QF</th>\n",
       "      <th>round_R128</th>\n",
       "      <th>round_R16</th>\n",
       "      <th>round_R32</th>\n",
       "      <th>round_R64</th>\n",
       "      <th>round_RR</th>\n",
       "      <th>round_SF</th>\n",
       "    </tr>\n",
       "  </thead>\n",
       "  <tbody>\n",
       "    <tr>\n",
       "      <th>0</th>\n",
       "      <td>1991-475</td>\n",
       "      <td>19910729.0</td>\n",
       "      <td>1.0</td>\n",
       "      <td>101649.0</td>\n",
       "      <td>1.000000</td>\n",
       "      <td>Guillermo Perez Roldan</td>\n",
       "      <td>178.0</td>\n",
       "      <td>21.771389</td>\n",
       "      <td>33.0</td>\n",
       "      <td>786.0</td>\n",
       "      <td>...</td>\n",
       "      <td>0</td>\n",
       "      <td>0</td>\n",
       "      <td>0</td>\n",
       "      <td>0</td>\n",
       "      <td>0</td>\n",
       "      <td>0</td>\n",
       "      <td>1</td>\n",
       "      <td>0</td>\n",
       "      <td>0</td>\n",
       "      <td>0</td>\n",
       "    </tr>\n",
       "    <tr>\n",
       "      <th>1</th>\n",
       "      <td>1991-475</td>\n",
       "      <td>19910729.0</td>\n",
       "      <td>2.0</td>\n",
       "      <td>101035.0</td>\n",
       "      <td>6.815137</td>\n",
       "      <td>Menno Oosting</td>\n",
       "      <td>180.0</td>\n",
       "      <td>27.197810</td>\n",
       "      <td>441.0</td>\n",
       "      <td>36.0</td>\n",
       "      <td>...</td>\n",
       "      <td>0</td>\n",
       "      <td>0</td>\n",
       "      <td>0</td>\n",
       "      <td>0</td>\n",
       "      <td>0</td>\n",
       "      <td>0</td>\n",
       "      <td>1</td>\n",
       "      <td>0</td>\n",
       "      <td>0</td>\n",
       "      <td>0</td>\n",
       "    </tr>\n",
       "    <tr>\n",
       "      <th>2</th>\n",
       "      <td>1991-475</td>\n",
       "      <td>19910729.0</td>\n",
       "      <td>3.0</td>\n",
       "      <td>101534.0</td>\n",
       "      <td>6.815137</td>\n",
       "      <td>Libor Nemecek</td>\n",
       "      <td>168.0</td>\n",
       "      <td>22.754278</td>\n",
       "      <td>208.0</td>\n",
       "      <td>143.0</td>\n",
       "      <td>...</td>\n",
       "      <td>0</td>\n",
       "      <td>0</td>\n",
       "      <td>0</td>\n",
       "      <td>0</td>\n",
       "      <td>0</td>\n",
       "      <td>0</td>\n",
       "      <td>1</td>\n",
       "      <td>0</td>\n",
       "      <td>0</td>\n",
       "      <td>0</td>\n",
       "    </tr>\n",
       "    <tr>\n",
       "      <th>3</th>\n",
       "      <td>1991-475</td>\n",
       "      <td>19910729.0</td>\n",
       "      <td>4.0</td>\n",
       "      <td>101475.0</td>\n",
       "      <td>6.815137</td>\n",
       "      <td>Carlos Costa</td>\n",
       "      <td>183.0</td>\n",
       "      <td>23.266256</td>\n",
       "      <td>142.0</td>\n",
       "      <td>249.0</td>\n",
       "      <td>...</td>\n",
       "      <td>0</td>\n",
       "      <td>0</td>\n",
       "      <td>0</td>\n",
       "      <td>0</td>\n",
       "      <td>0</td>\n",
       "      <td>0</td>\n",
       "      <td>1</td>\n",
       "      <td>0</td>\n",
       "      <td>0</td>\n",
       "      <td>0</td>\n",
       "    </tr>\n",
       "    <tr>\n",
       "      <th>4</th>\n",
       "      <td>1991-475</td>\n",
       "      <td>19910729.0</td>\n",
       "      <td>5.0</td>\n",
       "      <td>101686.0</td>\n",
       "      <td>4.000000</td>\n",
       "      <td>Franco Davin</td>\n",
       "      <td>173.0</td>\n",
       "      <td>21.544148</td>\n",
       "      <td>47.0</td>\n",
       "      <td>632.0</td>\n",
       "      <td>...</td>\n",
       "      <td>0</td>\n",
       "      <td>0</td>\n",
       "      <td>0</td>\n",
       "      <td>0</td>\n",
       "      <td>0</td>\n",
       "      <td>0</td>\n",
       "      <td>1</td>\n",
       "      <td>0</td>\n",
       "      <td>0</td>\n",
       "      <td>0</td>\n",
       "    </tr>\n",
       "  </tbody>\n",
       "</table>\n",
       "<p>5 rows × 2638 columns</p>\n",
       "</div>"
      ],
      "text/plain": [
       "  tourney_id  tourney_date  match_num  winner_id  winner_seed  \\\n",
       "0   1991-475    19910729.0        1.0   101649.0     1.000000   \n",
       "1   1991-475    19910729.0        2.0   101035.0     6.815137   \n",
       "2   1991-475    19910729.0        3.0   101534.0     6.815137   \n",
       "3   1991-475    19910729.0        4.0   101475.0     6.815137   \n",
       "4   1991-475    19910729.0        5.0   101686.0     4.000000   \n",
       "\n",
       "              winner_name  winner_ht  winner_age  winner_rank  \\\n",
       "0  Guillermo Perez Roldan      178.0   21.771389         33.0   \n",
       "1           Menno Oosting      180.0   27.197810        441.0   \n",
       "2           Libor Nemecek      168.0   22.754278        208.0   \n",
       "3            Carlos Costa      183.0   23.266256        142.0   \n",
       "4            Franco Davin      173.0   21.544148         47.0   \n",
       "\n",
       "   winner_rank_points    ...     best_of_5.0  round_BR round_F  round_QF  \\\n",
       "0               786.0    ...               0         0       0         0   \n",
       "1                36.0    ...               0         0       0         0   \n",
       "2               143.0    ...               0         0       0         0   \n",
       "3               249.0    ...               0         0       0         0   \n",
       "4               632.0    ...               0         0       0         0   \n",
       "\n",
       "   round_R128  round_R16  round_R32 round_R64  round_RR  round_SF  \n",
       "0           0          0          1         0         0         0  \n",
       "1           0          0          1         0         0         0  \n",
       "2           0          0          1         0         0         0  \n",
       "3           0          0          1         0         0         0  \n",
       "4           0          0          1         0         0         0  \n",
       "\n",
       "[5 rows x 2638 columns]"
      ]
     },
     "execution_count": 262,
     "metadata": {},
     "output_type": "execute_result"
    }
   ],
   "source": [
    "winnerPerspectiveDF = winnerPerspectiveDF.fillna(winnerPerspectiveDF.mean())\n",
    "loserPerspectiveDF = loserPerspectiveDF.fillna(loserPerspectiveDF.mean())\n",
    "for i in cat_cols:\n",
    "    winnerPerspectiveDF = winnerPerspectiveDF.fillna(winnerPerspectiveDF[i].value_counts().index[0])\n",
    "    loserPerspectiveDF = loserPerspectiveDF.fillna(loserPerspectiveDF[i].value_counts().index[0])\n",
    "winnerPerspectiveDF = pd.get_dummies(winnerPerspectiveDF, columns=cat_cols) \n",
    "loserPerspectiveDF = pd.get_dummies(loserPerspectiveDF, columns=cat_cols) \n",
    "winnerPerspectiveDF.head()"
   ]
  },
  {
   "cell_type": "code",
   "execution_count": 263,
   "metadata": {},
   "outputs": [
    {
     "data": {
      "text/html": [
       "<div>\n",
       "<style scoped>\n",
       "    .dataframe tbody tr th:only-of-type {\n",
       "        vertical-align: middle;\n",
       "    }\n",
       "\n",
       "    .dataframe tbody tr th {\n",
       "        vertical-align: top;\n",
       "    }\n",
       "\n",
       "    .dataframe thead th {\n",
       "        text-align: right;\n",
       "    }\n",
       "</style>\n",
       "<table border=\"1\" class=\"dataframe\">\n",
       "  <thead>\n",
       "    <tr style=\"text-align: right;\">\n",
       "      <th></th>\n",
       "      <th>tourney_id</th>\n",
       "      <th>tourney_date</th>\n",
       "      <th>match_num</th>\n",
       "      <th>winner_id</th>\n",
       "      <th>winner_seed</th>\n",
       "      <th>winner_name</th>\n",
       "      <th>winner_ht</th>\n",
       "      <th>winner_age</th>\n",
       "      <th>winner_rank</th>\n",
       "      <th>winner_rank_points</th>\n",
       "      <th>...</th>\n",
       "      <th>best_of_5.0</th>\n",
       "      <th>round_BR</th>\n",
       "      <th>round_F</th>\n",
       "      <th>round_QF</th>\n",
       "      <th>round_R128</th>\n",
       "      <th>round_R16</th>\n",
       "      <th>round_R32</th>\n",
       "      <th>round_R64</th>\n",
       "      <th>round_RR</th>\n",
       "      <th>round_SF</th>\n",
       "    </tr>\n",
       "  </thead>\n",
       "  <tbody>\n",
       "    <tr>\n",
       "      <th>0</th>\n",
       "      <td>1991-475</td>\n",
       "      <td>19910729.0</td>\n",
       "      <td>0.000000</td>\n",
       "      <td>101649.0</td>\n",
       "      <td>0.000000</td>\n",
       "      <td>Guillermo Perez Roldan</td>\n",
       "      <td>0.375000</td>\n",
       "      <td>0.260878</td>\n",
       "      <td>0.015238</td>\n",
       "      <td>0.046315</td>\n",
       "      <td>...</td>\n",
       "      <td>0</td>\n",
       "      <td>0</td>\n",
       "      <td>0</td>\n",
       "      <td>0</td>\n",
       "      <td>0</td>\n",
       "      <td>0</td>\n",
       "      <td>1</td>\n",
       "      <td>0</td>\n",
       "      <td>0</td>\n",
       "      <td>0</td>\n",
       "    </tr>\n",
       "    <tr>\n",
       "      <th>1</th>\n",
       "      <td>1991-475</td>\n",
       "      <td>19910729.0</td>\n",
       "      <td>0.001429</td>\n",
       "      <td>101035.0</td>\n",
       "      <td>0.171033</td>\n",
       "      <td>Menno Oosting</td>\n",
       "      <td>0.416667</td>\n",
       "      <td>0.451675</td>\n",
       "      <td>0.209524</td>\n",
       "      <td>0.002065</td>\n",
       "      <td>...</td>\n",
       "      <td>0</td>\n",
       "      <td>0</td>\n",
       "      <td>0</td>\n",
       "      <td>0</td>\n",
       "      <td>0</td>\n",
       "      <td>0</td>\n",
       "      <td>1</td>\n",
       "      <td>0</td>\n",
       "      <td>0</td>\n",
       "      <td>0</td>\n",
       "    </tr>\n",
       "    <tr>\n",
       "      <th>2</th>\n",
       "      <td>1991-475</td>\n",
       "      <td>19910729.0</td>\n",
       "      <td>0.002857</td>\n",
       "      <td>101534.0</td>\n",
       "      <td>0.171033</td>\n",
       "      <td>Libor Nemecek</td>\n",
       "      <td>0.166667</td>\n",
       "      <td>0.295437</td>\n",
       "      <td>0.098571</td>\n",
       "      <td>0.008378</td>\n",
       "      <td>...</td>\n",
       "      <td>0</td>\n",
       "      <td>0</td>\n",
       "      <td>0</td>\n",
       "      <td>0</td>\n",
       "      <td>0</td>\n",
       "      <td>0</td>\n",
       "      <td>1</td>\n",
       "      <td>0</td>\n",
       "      <td>0</td>\n",
       "      <td>0</td>\n",
       "    </tr>\n",
       "    <tr>\n",
       "      <th>3</th>\n",
       "      <td>1991-475</td>\n",
       "      <td>19910729.0</td>\n",
       "      <td>0.004286</td>\n",
       "      <td>101475.0</td>\n",
       "      <td>0.171033</td>\n",
       "      <td>Carlos Costa</td>\n",
       "      <td>0.479167</td>\n",
       "      <td>0.313439</td>\n",
       "      <td>0.067143</td>\n",
       "      <td>0.014632</td>\n",
       "      <td>...</td>\n",
       "      <td>0</td>\n",
       "      <td>0</td>\n",
       "      <td>0</td>\n",
       "      <td>0</td>\n",
       "      <td>0</td>\n",
       "      <td>0</td>\n",
       "      <td>1</td>\n",
       "      <td>0</td>\n",
       "      <td>0</td>\n",
       "      <td>0</td>\n",
       "    </tr>\n",
       "    <tr>\n",
       "      <th>4</th>\n",
       "      <td>1991-475</td>\n",
       "      <td>19910729.0</td>\n",
       "      <td>0.005714</td>\n",
       "      <td>101686.0</td>\n",
       "      <td>0.088235</td>\n",
       "      <td>Franco Davin</td>\n",
       "      <td>0.270833</td>\n",
       "      <td>0.252888</td>\n",
       "      <td>0.021905</td>\n",
       "      <td>0.037229</td>\n",
       "      <td>...</td>\n",
       "      <td>0</td>\n",
       "      <td>0</td>\n",
       "      <td>0</td>\n",
       "      <td>0</td>\n",
       "      <td>0</td>\n",
       "      <td>0</td>\n",
       "      <td>1</td>\n",
       "      <td>0</td>\n",
       "      <td>0</td>\n",
       "      <td>0</td>\n",
       "    </tr>\n",
       "  </tbody>\n",
       "</table>\n",
       "<p>5 rows × 2638 columns</p>\n",
       "</div>"
      ],
      "text/plain": [
       "  tourney_id  tourney_date  match_num  winner_id  winner_seed  \\\n",
       "0   1991-475    19910729.0   0.000000   101649.0     0.000000   \n",
       "1   1991-475    19910729.0   0.001429   101035.0     0.171033   \n",
       "2   1991-475    19910729.0   0.002857   101534.0     0.171033   \n",
       "3   1991-475    19910729.0   0.004286   101475.0     0.171033   \n",
       "4   1991-475    19910729.0   0.005714   101686.0     0.088235   \n",
       "\n",
       "              winner_name  winner_ht  winner_age  winner_rank  \\\n",
       "0  Guillermo Perez Roldan   0.375000    0.260878     0.015238   \n",
       "1           Menno Oosting   0.416667    0.451675     0.209524   \n",
       "2           Libor Nemecek   0.166667    0.295437     0.098571   \n",
       "3            Carlos Costa   0.479167    0.313439     0.067143   \n",
       "4            Franco Davin   0.270833    0.252888     0.021905   \n",
       "\n",
       "   winner_rank_points    ...     best_of_5.0  round_BR round_F  round_QF  \\\n",
       "0            0.046315    ...               0         0       0         0   \n",
       "1            0.002065    ...               0         0       0         0   \n",
       "2            0.008378    ...               0         0       0         0   \n",
       "3            0.014632    ...               0         0       0         0   \n",
       "4            0.037229    ...               0         0       0         0   \n",
       "\n",
       "   round_R128  round_R16  round_R32 round_R64  round_RR  round_SF  \n",
       "0           0          0          1         0         0         0  \n",
       "1           0          0          1         0         0         0  \n",
       "2           0          0          1         0         0         0  \n",
       "3           0          0          1         0         0         0  \n",
       "4           0          0          1         0         0         0  \n",
       "\n",
       "[5 rows x 2638 columns]"
      ]
     },
     "execution_count": 263,
     "metadata": {},
     "output_type": "execute_result"
    }
   ],
   "source": [
    "def normalize(dff,col_name_list):\n",
    "    result = dff.copy()\n",
    "    for feature_name in col_name_list:\n",
    "        max_value = dff[feature_name].max()\n",
    "        min_value = dff[feature_name].min()\n",
    "        result[feature_name] = (dff[feature_name] - min_value) / (max_value - min_value)\n",
    "    return result\n",
    "\n",
    "\n",
    "winnerPerspectiveDF = normalize(winnerPerspectiveDF,num_cols)\n",
    "loserPerspectiveDF = normalize(loserPerspectiveDF,num_cols)\n",
    "winnerPerspectiveDF.head()"
   ]
  },
  {
   "cell_type": "code",
   "execution_count": 264,
   "metadata": {},
   "outputs": [
    {
     "data": {
      "text/html": [
       "<div>\n",
       "<style scoped>\n",
       "    .dataframe tbody tr th:only-of-type {\n",
       "        vertical-align: middle;\n",
       "    }\n",
       "\n",
       "    .dataframe tbody tr th {\n",
       "        vertical-align: top;\n",
       "    }\n",
       "\n",
       "    .dataframe thead th {\n",
       "        text-align: right;\n",
       "    }\n",
       "</style>\n",
       "<table border=\"1\" class=\"dataframe\">\n",
       "  <thead>\n",
       "    <tr style=\"text-align: right;\">\n",
       "      <th></th>\n",
       "      <th>match_num</th>\n",
       "      <th>winner_seed</th>\n",
       "      <th>winner_ht</th>\n",
       "      <th>winner_age</th>\n",
       "      <th>winner_rank</th>\n",
       "      <th>winner_rank_points</th>\n",
       "      <th>loser_seed</th>\n",
       "      <th>loser_ht</th>\n",
       "      <th>loser_age</th>\n",
       "      <th>loser_rank</th>\n",
       "      <th>...</th>\n",
       "      <th>best_of_5.0</th>\n",
       "      <th>round_BR</th>\n",
       "      <th>round_F</th>\n",
       "      <th>round_QF</th>\n",
       "      <th>round_R128</th>\n",
       "      <th>round_R16</th>\n",
       "      <th>round_R32</th>\n",
       "      <th>round_R64</th>\n",
       "      <th>round_RR</th>\n",
       "      <th>round_SF</th>\n",
       "    </tr>\n",
       "  </thead>\n",
       "  <tbody>\n",
       "    <tr>\n",
       "      <th>0</th>\n",
       "      <td>0.000000</td>\n",
       "      <td>0.000000</td>\n",
       "      <td>0.375000</td>\n",
       "      <td>0.260878</td>\n",
       "      <td>0.015238</td>\n",
       "      <td>0.046315</td>\n",
       "      <td>0.211152</td>\n",
       "      <td>0.375000</td>\n",
       "      <td>0.474292</td>\n",
       "      <td>0.092678</td>\n",
       "      <td>...</td>\n",
       "      <td>0</td>\n",
       "      <td>0</td>\n",
       "      <td>0</td>\n",
       "      <td>0</td>\n",
       "      <td>0</td>\n",
       "      <td>0</td>\n",
       "      <td>1</td>\n",
       "      <td>0</td>\n",
       "      <td>0</td>\n",
       "      <td>0</td>\n",
       "    </tr>\n",
       "    <tr>\n",
       "      <th>1</th>\n",
       "      <td>0.001429</td>\n",
       "      <td>0.171033</td>\n",
       "      <td>0.416667</td>\n",
       "      <td>0.451675</td>\n",
       "      <td>0.209524</td>\n",
       "      <td>0.002065</td>\n",
       "      <td>0.211152</td>\n",
       "      <td>0.479167</td>\n",
       "      <td>0.351138</td>\n",
       "      <td>0.253475</td>\n",
       "      <td>...</td>\n",
       "      <td>0</td>\n",
       "      <td>0</td>\n",
       "      <td>0</td>\n",
       "      <td>0</td>\n",
       "      <td>0</td>\n",
       "      <td>0</td>\n",
       "      <td>1</td>\n",
       "      <td>0</td>\n",
       "      <td>0</td>\n",
       "      <td>0</td>\n",
       "    </tr>\n",
       "    <tr>\n",
       "      <th>2</th>\n",
       "      <td>0.002857</td>\n",
       "      <td>0.171033</td>\n",
       "      <td>0.166667</td>\n",
       "      <td>0.295437</td>\n",
       "      <td>0.098571</td>\n",
       "      <td>0.008378</td>\n",
       "      <td>0.211152</td>\n",
       "      <td>0.312500</td>\n",
       "      <td>0.594754</td>\n",
       "      <td>0.102873</td>\n",
       "      <td>...</td>\n",
       "      <td>0</td>\n",
       "      <td>0</td>\n",
       "      <td>0</td>\n",
       "      <td>0</td>\n",
       "      <td>0</td>\n",
       "      <td>0</td>\n",
       "      <td>1</td>\n",
       "      <td>0</td>\n",
       "      <td>0</td>\n",
       "      <td>0</td>\n",
       "    </tr>\n",
       "    <tr>\n",
       "      <th>3</th>\n",
       "      <td>0.004286</td>\n",
       "      <td>0.171033</td>\n",
       "      <td>0.479167</td>\n",
       "      <td>0.313439</td>\n",
       "      <td>0.067143</td>\n",
       "      <td>0.014632</td>\n",
       "      <td>0.205882</td>\n",
       "      <td>0.625000</td>\n",
       "      <td>0.280181</td>\n",
       "      <td>0.055607</td>\n",
       "      <td>...</td>\n",
       "      <td>0</td>\n",
       "      <td>0</td>\n",
       "      <td>0</td>\n",
       "      <td>0</td>\n",
       "      <td>0</td>\n",
       "      <td>0</td>\n",
       "      <td>1</td>\n",
       "      <td>0</td>\n",
       "      <td>0</td>\n",
       "      <td>0</td>\n",
       "    </tr>\n",
       "    <tr>\n",
       "      <th>4</th>\n",
       "      <td>0.005714</td>\n",
       "      <td>0.088235</td>\n",
       "      <td>0.270833</td>\n",
       "      <td>0.252888</td>\n",
       "      <td>0.021905</td>\n",
       "      <td>0.037229</td>\n",
       "      <td>0.211152</td>\n",
       "      <td>0.312500</td>\n",
       "      <td>0.186642</td>\n",
       "      <td>0.118628</td>\n",
       "      <td>...</td>\n",
       "      <td>0</td>\n",
       "      <td>0</td>\n",
       "      <td>0</td>\n",
       "      <td>0</td>\n",
       "      <td>0</td>\n",
       "      <td>0</td>\n",
       "      <td>1</td>\n",
       "      <td>0</td>\n",
       "      <td>0</td>\n",
       "      <td>0</td>\n",
       "    </tr>\n",
       "  </tbody>\n",
       "</table>\n",
       "<p>5 rows × 2631 columns</p>\n",
       "</div>"
      ],
      "text/plain": [
       "   match_num  winner_seed  winner_ht  winner_age  winner_rank  \\\n",
       "0   0.000000     0.000000   0.375000    0.260878     0.015238   \n",
       "1   0.001429     0.171033   0.416667    0.451675     0.209524   \n",
       "2   0.002857     0.171033   0.166667    0.295437     0.098571   \n",
       "3   0.004286     0.171033   0.479167    0.313439     0.067143   \n",
       "4   0.005714     0.088235   0.270833    0.252888     0.021905   \n",
       "\n",
       "   winner_rank_points  loser_seed  loser_ht  loser_age  loser_rank    ...     \\\n",
       "0            0.046315    0.211152  0.375000   0.474292    0.092678    ...      \n",
       "1            0.002065    0.211152  0.479167   0.351138    0.253475    ...      \n",
       "2            0.008378    0.211152  0.312500   0.594754    0.102873    ...      \n",
       "3            0.014632    0.205882  0.625000   0.280181    0.055607    ...      \n",
       "4            0.037229    0.211152  0.312500   0.186642    0.118628    ...      \n",
       "\n",
       "   best_of_5.0  round_BR  round_F  round_QF  round_R128  round_R16  round_R32  \\\n",
       "0            0         0        0         0           0          0          1   \n",
       "1            0         0        0         0           0          0          1   \n",
       "2            0         0        0         0           0          0          1   \n",
       "3            0         0        0         0           0          0          1   \n",
       "4            0         0        0         0           0          0          1   \n",
       "\n",
       "   round_R64  round_RR  round_SF  \n",
       "0          0         0         0  \n",
       "1          0         0         0  \n",
       "2          0         0         0  \n",
       "3          0         0         0  \n",
       "4          0         0         0  \n",
       "\n",
       "[5 rows x 2631 columns]"
      ]
     },
     "execution_count": 264,
     "metadata": {},
     "output_type": "execute_result"
    }
   ],
   "source": [
    "winnerPerspectiveDF = winnerPerspectiveDF.drop(to_drop, axis=1)\n",
    "loserPerspectiveDF = loserPerspectiveDF.drop(to_drop, axis=1)\n",
    "winnerPerspectiveDF.head()"
   ]
  },
  {
   "cell_type": "code",
   "execution_count": 265,
   "metadata": {},
   "outputs": [],
   "source": [
    "import pandas as pd\n",
    "import numpy as np\n",
    "import matplotlib.pyplot as plt\n",
    "%matplotlib inline\n",
    "import math\n",
    "\n",
    "import warnings\n",
    "warnings.filterwarnings('ignore')\n",
    "\n",
    "\n",
    "from sklearn import metrics\n",
    "\n",
    "from scipy.special import legendre\n",
    "from sklearn.preprocessing import PolynomialFeatures\n",
    "from sklearn.linear_model import LinearRegression\n",
    "import seaborn as sns"
   ]
  },
  {
   "cell_type": "code",
   "execution_count": 266,
   "metadata": {},
   "outputs": [
    {
     "data": {
      "image/png": "[encoded data removed]",
      "text/plain": [
       "<matplotlib.figure.Figure at 0x25729e58c88>"
      ]
     },
     "metadata": {},
     "output_type": "display_data"
    },
    {
     "data": {
      "image/png": "[encoded data removed]",
      "text/plain": [
       "<matplotlib.figure.Figure at 0x2572f6da160>"
      ]
     },
     "metadata": {},
     "output_type": "display_data"
    },
    {
     "data": {
      "image/png": "[encoded data removed]",
      "text/plain": [
       "<matplotlib.figure.Figure at 0x2572ea83ef0>"
      ]
     },
     "metadata": {},
     "output_type": "display_data"
    },
    {
     "data": {
      "image/png": "[encoded data removed]",
      "text/plain": [
       "<matplotlib.figure.Figure at 0x2572a6b9da0>"
      ]
     },
     "metadata": {},
     "output_type": "display_data"
    },
    {
     "data": {
      "image/png": "[encoded data removed]",
      "text/plain": [
       "<matplotlib.figure.Figure at 0x2572a306da0>"
      ]
     },
     "metadata": {},
     "output_type": "display_data"
    },
    {
     "data": {
      "image/png": "[encoded data removed]",
      "text/plain": [
       "<matplotlib.figure.Figure at 0x2572a4536d8>"
      ]
     },
     "metadata": {},
     "output_type": "display_data"
    },
    {
     "data": {
      "image/png": "[encoded data removed]",
      "text/plain": [
       "<matplotlib.figure.Figure at 0x2572ee97cf8>"
      ]
     },
     "metadata": {},
     "output_type": "display_data"
    },
    {
     "data": {
      "image/png": "[encoded data removed]",
      "text/plain": [
       "<matplotlib.figure.Figure at 0x25729e67e48>"
      ]
     },
     "metadata": {},
     "output_type": "display_data"
    },
    {
     "data": {
      "image/png": "[encoded data removed]",
      "text/plain": [
       "<matplotlib.figure.Figure at 0x2572a5b0be0>"
      ]
     },
     "metadata": {},
     "output_type": "display_data"
    },
    {
     "data": {
      "image/png": "[encoded data removed]",
      "text/plain": [
       "<matplotlib.figure.Figure at 0x25729e69dd8>"
      ]
     },
     "metadata": {},
     "output_type": "display_data"
    },
    {
     "data": {
      "image/png": "[encoded data removed]",
      "text/plain": [
       "<matplotlib.figure.Figure at 0x2572988dfd0>"
      ]
     },
     "metadata": {},
     "output_type": "display_data"
    },
    {
     "data": {
      "image/png": "[encoded data removed]",
      "text/plain": [
       "<matplotlib.figure.Figure at 0x257348739b0>"
      ]
     },
     "metadata": {},
     "output_type": "display_data"
    },
    {
     "data": {
      "image/png": "[encoded data removed]",
      "text/plain": [
       "<matplotlib.figure.Figure at 0x25732910da0>"
      ]
     },
     "metadata": {},
     "output_type": "display_data"
    },
    {
     "data": {
      "image/png": "[encoded data removed]",
      "text/plain": [
       "<matplotlib.figure.Figure at 0x25729749ba8>"
      ]
     },
     "metadata": {},
     "output_type": "display_data"
    },
    {
     "data": {
      "image/png": "[encoded data removed]",
      "text/plain": [
       "<matplotlib.figure.Figure at 0x2572f54b828>"
      ]
     },
     "metadata": {},
     "output_type": "display_data"
    },
    {
     "data": {
      "image/png": "[encoded data removed]",
      "text/plain": [
       "<matplotlib.figure.Figure at 0x257379fcd68>"
      ]
     },
     "metadata": {},
     "output_type": "display_data"
    },
    {
     "data": {
      "image/png": "[encoded data removed]",
      "text/plain": [
       "<matplotlib.figure.Figure at 0x2572f54ba58>"
      ]
     },
     "metadata": {},
     "output_type": "display_data"
    },
    {
     "data": {
      "image/png": "[encoded data removed]",
      "text/plain": [
       "<matplotlib.figure.Figure at 0x2572a58eac8>"
      ]
     },
     "metadata": {},
     "output_type": "display_data"
    },
    {
     "data": {
      "image/png": "[encoded data removed]",
      "text/plain": [
       "<matplotlib.figure.Figure at 0x2572f5bdc50>"
      ]
     },
     "metadata": {},
     "output_type": "display_data"
    },
    {
     "data": {
      "image/png": "[encoded data removed]",
      "text/plain": [
       "<matplotlib.figure.Figure at 0x257296b9908>"
      ]
     },
     "metadata": {},
     "output_type": "display_data"
    },
    {
     "data": {
      "image/png": "[encoded data removed]",
      "text/plain": [
       "<matplotlib.figure.Figure at 0x2572eb7ec18>"
      ]
     },
     "metadata": {},
     "output_type": "display_data"
    },
    {
     "data": {
      "image/png": "[encoded data removed]",
      "text/plain": [
       "<matplotlib.figure.Figure at 0x2572e79dba8>"
      ]
     },
     "metadata": {},
     "output_type": "display_data"
    },
    {
     "data": {
      "image/png": "[encoded data removed]",
      "text/plain": [
       "<matplotlib.figure.Figure at 0x2572f565f28>"
      ]
     },
     "metadata": {},
     "output_type": "display_data"
    },
    {
     "data": {
      "image/png": "[encoded data removed]",
      "text/plain": [
       "<matplotlib.figure.Figure at 0x2572a6ceb70>"
      ]
     },
     "metadata": {},
     "output_type": "display_data"
    },
    {
     "data": {
      "image/png": "[encoded data removed]",
      "text/plain": [
       "<matplotlib.figure.Figure at 0x25729e6feb8>"
      ]
     },
     "metadata": {},
     "output_type": "display_data"
    },
    {
     "data": {
      "image/png": "[encoded data removed]",
      "text/plain": [
       "<matplotlib.figure.Figure at 0x2572e682eb8>"
      ]
     },
     "metadata": {},
     "output_type": "display_data"
    },
    {
     "data": {
      "image/png": "[encoded data removed]",
      "text/plain": [
       "<matplotlib.figure.Figure at 0x2572ef6b470>"
      ]
     },
     "metadata": {},
     "output_type": "display_data"
    },
    {
     "data": {
      "image/png": "[encoded data removed]",
      "text/plain": [
       "<matplotlib.figure.Figure at 0x2572a49bbe0>"
      ]
     },
     "metadata": {},
     "output_type": "display_data"
    },
    {
     "data": {
      "image/png": "[encoded data removed]",
      "text/plain": [
       "<matplotlib.figure.Figure at 0x2572ebba438>"
      ]
     },
     "metadata": {},
     "output_type": "display_data"
    },
    {
     "data": {
      "image/png": "[encoded data removed]",
      "text/plain": [
       "<matplotlib.figure.Figure at 0x2572a5b4dd8>"
      ]
     },
     "metadata": {},
     "output_type": "display_data"
    }
   ],
   "source": [
    "num_bins = 10\n",
    "for i in num_cols:\n",
    "    plt.hist(winnerPerspectiveDF[i],num_bins,normed=1,facecolor='blue',alpha=0.7)\n",
    "    plt.show()"
   ]
  },
  {
   "cell_type": "code",
   "execution_count": 267,
   "metadata": {},
   "outputs": [],
   "source": [
    "from sklearn.model_selection import train_test_split\n",
    "from sklearn import metrics\n",
    "from sklearn.linear_model import LinearRegression\n",
    "from sklearn.neighbors import KNeighborsRegressor\n",
    "from sklearn.svm import SVC\n",
    "from sklearn.ensemble import RandomForestRegressor\n",
    "from sklearn.neural_network import MLPRegressor"
   ]
  },
  {
   "cell_type": "code",
   "execution_count": 268,
   "metadata": {},
   "outputs": [],
   "source": [
    "Y1 = pd.DataFrame(winnerPerspectiveDF['y'])\n",
    "Y2 = pd.DataFrame(loserPerspectiveDF['y'])\n",
    "winnerPerspectiveDF = winnerPerspectiveDF.drop(['y'], axis=1)\n",
    "loserPerspectiveDF = loserPerspectiveDF.drop(['y'], axis=1)\n",
    "X1 = winnerPerspectiveDF\n",
    "X2 = loserPerspectiveDF\n",
    "X1_train, X1_test, y1_train, y1_test = train_test_split(X1, Y1, test_size=0.33, random_state=42)\n",
    "X2_train, X2_test, y2_train, y2_test = train_test_split(X2, Y2, test_size=0.33, random_state=42)"
   ]
  },
  {
   "cell_type": "code",
   "execution_count": 269,
   "metadata": {},
   "outputs": [
    {
     "name": "stdout",
     "output_type": "stream",
     "text": [
      "Logistic Regression\n",
      "\tMean Squared Error: 0.6728069597311013\n",
      "\tR2 Score: -0.6480560063957868\n",
      "\tTraining Accuracy:  75.92313060979372\n",
      "\tTest Accuracy:  72.53015224411784\n",
      "Logistic Regression\n",
      "\tMean Squared Error: 0.6241349766031767\n",
      "\tR2 Score: -0.610218549844536\n",
      "\tTraining Accuracy:  73.75306357630943\n",
      "\tTest Accuracy:  70.91214657615501\n"
     ]
    },
    {
     "data": {
      "text/plain": [
       "array([1, 0, 0, ..., 1, 1, 0], dtype=int64)"
      ]
     },
     "execution_count": 269,
     "metadata": {},
     "output_type": "execute_result"
    }
   ],
   "source": [
    "from sklearn.linear_model import LogisticRegression\n",
    "def logisticRegression(c,X_train,X_test, y_train,y_test):\n",
    "    print(\"Logistic Regression\")\n",
    "    clf = LogisticRegression(penalty = 'l2', C = c,random_state = 0,solver='sag',multi_class='multinomial')\n",
    "    clf.fit(X_train, y_train)\n",
    "    y_pred = clf.predict(X_test)\n",
    "    acc = metrics.accuracy_score(y_test, y_pred)*100\n",
    "    print (\"\\tMean Squared Error:\",metrics.mean_squared_error(y_test,y_pred))\n",
    "    print (\"\\tR2 Score:\",metrics.r2_score(y_test,y_pred))\n",
    "    print (\"\\tTraining Accuracy: \",clf.score(X_train, y_train)*100)\n",
    "    print(\"\\tTest Accuracy: \",acc)\n",
    "    return y_pred\n",
    "logisticRegression(95,X1_train,X1_test, y1_train,y1_test)\n",
    "logisticRegression(95,X2_train,X2_test, y2_train,y2_test)"
   ]
  },
  {
   "cell_type": "markdown",
   "metadata": {},
   "source": [
    "reg = LinearRegression().fit(X_train,y_train)\n",
    "ypred=reg.predict(X_test)"
   ]
  },
  {
   "cell_type": "markdown",
   "metadata": {},
   "source": [
    "y_test=y_test['winner_rp_aftermatch'].tolist()\n",
    "ypred=ypred.tolist()\n",
    "for i in range(len(ypred)):\n",
    "    print(\"Prediction,Test is :\",ypred[i],y_test[i])"
   ]
  },
  {
   "cell_type": "markdown",
   "metadata": {},
   "source": [
    "print(reg.score(X_test, y_test))"
   ]
  },
  {
   "cell_type": "code",
   "execution_count": 270,
   "metadata": {},
   "outputs": [
    {
     "name": "stdout",
     "output_type": "stream",
     "text": [
      "Neural Network\n",
      "Iteration 1, loss = 0.64128206\n",
      "Iteration 2, loss = 0.54900417\n",
      "Iteration 3, loss = 0.52101530\n",
      "Iteration 4, loss = 0.50064123\n",
      "Iteration 5, loss = 0.48263324\n",
      "Iteration 6, loss = 0.46516666\n",
      "Iteration 7, loss = 0.45014629\n",
      "Iteration 8, loss = 0.43301549\n",
      "Iteration 9, loss = 0.41666454\n",
      "Iteration 10, loss = 0.40325541\n",
      "Iteration 11, loss = 0.38691341\n",
      "Iteration 12, loss = 0.37144442\n",
      "Iteration 13, loss = 0.35765458\n",
      "Iteration 14, loss = 0.34368638\n",
      "Iteration 15, loss = 0.33068214\n",
      "Iteration 16, loss = 0.31686475\n",
      "Iteration 17, loss = 0.31185184\n",
      "Iteration 18, loss = 0.29436702\n",
      "Iteration 19, loss = 0.28539292\n",
      "Iteration 20, loss = 0.27337452\n",
      "Iteration 21, loss = 0.26817943\n",
      "Iteration 22, loss = 0.25324893\n",
      "Iteration 23, loss = 0.24802497\n",
      "Iteration 24, loss = 0.23958249\n",
      "Iteration 25, loss = 0.23041489\n",
      "Iteration 26, loss = 0.22522649\n",
      "Iteration 27, loss = 0.21715504\n",
      "Iteration 28, loss = 0.21056454\n",
      "Iteration 29, loss = 0.20681234\n",
      "Iteration 30, loss = 0.19868313\n",
      "Iteration 31, loss = 0.19499223\n",
      "Iteration 32, loss = 0.19583402\n",
      "Iteration 33, loss = 0.18388370\n",
      "Iteration 34, loss = 0.18585880\n",
      "Iteration 35, loss = 0.17366410\n",
      "Iteration 36, loss = 0.16960263\n",
      "Iteration 37, loss = 0.16391126\n",
      "Iteration 38, loss = 0.16667959\n",
      "Iteration 39, loss = 0.15984928\n",
      "Iteration 40, loss = 0.16333302\n",
      "Iteration 41, loss = 0.14990554\n",
      "Iteration 42, loss = 0.14318215\n",
      "Iteration 43, loss = 0.14606916\n",
      "Iteration 44, loss = 0.15120534\n",
      "Iteration 45, loss = 0.13944954\n",
      "Iteration 46, loss = 0.13430975\n",
      "Iteration 47, loss = 0.13588229\n",
      "Iteration 48, loss = 0.13548475\n",
      "Iteration 49, loss = 0.12826792\n",
      "Iteration 50, loss = 0.12869167\n",
      "Iteration 51, loss = 0.12640033\n",
      "Iteration 52, loss = 0.12073886\n",
      "Iteration 53, loss = 0.12409855\n",
      "Iteration 54, loss = 0.11863096\n",
      "Iteration 55, loss = 0.10986083\n",
      "Iteration 56, loss = 0.11712383\n",
      "Iteration 57, loss = 0.11240851\n",
      "Iteration 58, loss = 0.11193580\n",
      "Training loss did not improve more than tol=0.000000 for two consecutive epochs. Stopping.\n",
      "mlp_preds:  [-1  0  0 ... -1 -1  1]\n",
      "\tMean Squared Error:  0.6771567916694128\n",
      "\tR2 Score:  -0.6587110190246865\n",
      "\tTraining Accuracy:  96.43245524338187\n",
      "\tTest Accuracy:  71.83813352665919\n",
      "Neural Network\n",
      "Iteration 1, loss = 0.67707103\n",
      "Iteration 2, loss = 0.58287569\n",
      "Iteration 3, loss = 0.55860986\n",
      "Iteration 4, loss = 0.54227136\n",
      "Iteration 5, loss = 0.52372404\n",
      "Iteration 6, loss = 0.50445001\n",
      "Iteration 7, loss = 0.48923365\n",
      "Iteration 8, loss = 0.46987854\n",
      "Iteration 9, loss = 0.45575142\n",
      "Iteration 10, loss = 0.43923799\n",
      "Iteration 11, loss = 0.42482002\n",
      "Iteration 12, loss = 0.40650464\n",
      "Iteration 13, loss = 0.39104846\n",
      "Iteration 14, loss = 0.37497059\n",
      "Iteration 15, loss = 0.36283250\n",
      "Iteration 16, loss = 0.34846413\n",
      "Iteration 17, loss = 0.33495284\n",
      "Iteration 18, loss = 0.32546011\n",
      "Iteration 19, loss = 0.31358938\n",
      "Iteration 20, loss = 0.29876375\n",
      "Iteration 21, loss = 0.28866437\n",
      "Iteration 22, loss = 0.28112250\n",
      "Iteration 23, loss = 0.26920159\n",
      "Iteration 24, loss = 0.26272062\n",
      "Iteration 25, loss = 0.25085775\n",
      "Iteration 26, loss = 0.24635858\n",
      "Iteration 27, loss = 0.23534381\n",
      "Iteration 28, loss = 0.23115116\n",
      "Iteration 29, loss = 0.22772923\n",
      "Iteration 30, loss = 0.21696624\n",
      "Iteration 31, loss = 0.21216109\n",
      "Iteration 32, loss = 0.20704471\n",
      "Iteration 33, loss = 0.20569043\n",
      "Iteration 34, loss = 0.19372442\n",
      "Iteration 35, loss = 0.19647826\n",
      "Iteration 36, loss = 0.18907584\n",
      "Iteration 37, loss = 0.18025048\n",
      "Iteration 38, loss = 0.17438438\n",
      "Iteration 39, loss = 0.18033306\n",
      "Iteration 40, loss = 0.17110740\n",
      "Iteration 41, loss = 0.16743306\n",
      "Iteration 42, loss = 0.16684303\n",
      "Iteration 43, loss = 0.16419029\n",
      "Iteration 44, loss = 0.15522007\n",
      "Iteration 45, loss = 0.15551828\n",
      "Iteration 46, loss = 0.15035749\n",
      "Iteration 47, loss = 0.15334786\n",
      "Iteration 48, loss = 0.14444359\n",
      "Iteration 49, loss = 0.14136011\n",
      "Iteration 50, loss = 0.13523904\n",
      "Iteration 51, loss = 0.13792656\n",
      "Iteration 52, loss = 0.13916296\n",
      "Iteration 53, loss = 0.13320901\n",
      "Iteration 54, loss = 0.13237279\n",
      "Iteration 55, loss = 0.13072835\n",
      "Iteration 56, loss = 0.12433033\n",
      "Iteration 57, loss = 0.13465427\n",
      "Iteration 58, loss = 0.13289354\n",
      "Iteration 59, loss = 0.12112691\n",
      "Iteration 60, loss = 0.11721434\n",
      "Iteration 61, loss = 0.11544917\n",
      "Iteration 62, loss = 0.11074917\n",
      "Iteration 63, loss = 0.11968003\n",
      "Iteration 64, loss = 0.11221552\n",
      "Iteration 65, loss = 0.11009836\n",
      "Iteration 66, loss = 0.10936423\n",
      "Iteration 67, loss = 0.11161740\n",
      "Iteration 68, loss = 0.10974823\n",
      "Iteration 69, loss = 0.10891219\n",
      "Iteration 70, loss = 0.10147337\n",
      "Iteration 71, loss = 0.10753008\n",
      "Iteration 72, loss = 0.09675008\n",
      "Iteration 73, loss = 0.12132462\n",
      "Iteration 74, loss = 0.09454317\n",
      "Iteration 75, loss = 0.09038143\n",
      "Iteration 76, loss = 0.09901661\n",
      "Iteration 77, loss = 0.08778305\n",
      "Iteration 78, loss = 0.08569370\n",
      "Iteration 79, loss = 0.09656432\n",
      "Iteration 80, loss = 0.09582414\n",
      "Iteration 81, loss = 0.09068605\n",
      "Training loss did not improve more than tol=0.000000 for two consecutive epochs. Stopping.\n",
      "mlp_preds:  [-1  0  0 ...  1  0  0]\n",
      "\tMean Squared Error:  0.6637118565873591\n",
      "\tR2 Score:  -0.712323749335734\n",
      "\tTraining Accuracy:  97.0411127883008\n",
      "\tTest Accuracy:  69.47538390562183\n"
     ]
    },
    {
     "data": {
      "text/plain": [
       "array([-1,  0,  0, ...,  1,  0,  0], dtype=int64)"
      ]
     },
     "execution_count": 270,
     "metadata": {},
     "output_type": "execute_result"
    }
   ],
   "source": [
    "from sklearn.neural_network import MLPClassifier\n",
    "def NeuralNetwork(hl,iterations,Alpha,optimizer,X_train,X_test, y_train,y_test):\n",
    "    print(\"Neural Network\")\n",
    "    clfmlp = MLPClassifier(hidden_layer_sizes=hl, max_iter=iterations, alpha=Alpha,\n",
    "                     solver=optimizer, verbose=10,  random_state=21,tol=0.000000001)\n",
    "    clfmlp.fit(X_train, y_train)\n",
    "    mlp_preds = clfmlp.predict(X_test)\n",
    "    print(\"mlp_preds: \",mlp_preds)\n",
    "    print (\"\\tMean Squared Error: \",metrics.mean_squared_error(y_test,mlp_preds))\n",
    "    print (\"\\tR2 Score: \",metrics.r2_score(y_test,mlp_preds))\n",
    "    print (\"\\tTraining Accuracy: \",clfmlp.score(X_train, y_train)*100)\n",
    "    print (\"\\tTest Accuracy: \",metrics.accuracy_score(np.round(y_test),np.round(mlp_preds))*100)\n",
    "    return mlp_preds\n",
    "hidden_layer = (100,100,100)\n",
    "iterations = 500\n",
    "alpha = 0.0001\n",
    "opt = 'adam'\n",
    "NeuralNetwork(hidden_layer,iterations,alpha,opt,X1_train,X1_test, y1_train,y1_test)\n",
    "NeuralNetwork(hidden_layer,iterations,alpha,opt,X2_train,X2_test, y2_train,y2_test)"
   ]
  },
  {
   "cell_type": "code",
   "execution_count": 271,
   "metadata": {},
   "outputs": [],
   "source": [
    "from sklearn.naive_bayes import GaussianNB\n",
    "\n",
    "def naiveBayes(X_train,X_test, y_train,y_test):\n",
    "    print(\"Naive Bayes\")\n",
    "    gnb = GaussianNB()\n",
    "    y_pred = gnb.fit(X_train, y_train).predict(X_test)\n",
    "    print (\"\\tMean Squared Error: \",metrics.mean_squared_error(y_test,y_pred))\n",
    "    print (\"\\tR2 Score: \",metrics.r2_score(y_test,y_pred))\n",
    "    print (\"\\tTraining Accuracy: \",gnb.score(X_train, y_train)*100)\n",
    "    print(\"\\tTest Accuracy: \",metrics.accuracy_score(y_test, y_pred)*100)\n",
    "    return y_pred"
   ]
  },
  {
   "cell_type": "code",
   "execution_count": 272,
   "metadata": {},
   "outputs": [
    {
     "name": "stdout",
     "output_type": "stream",
     "text": [
      "Naive Bayes\n",
      "\tMean Squared Error:  1.315231002438542\n",
      "\tR2 Score:  -2.2216883639745624\n",
      "\tTraining Accuracy:  26.319975329080847\n",
      "\tTest Accuracy:  24.2338364199565\n",
      "Naive Bayes\n",
      "\tMean Squared Error:  1.4055559217030251\n",
      "\tR2 Score:  -2.6262223762681622\n",
      "\tTraining Accuracy:  23.253964389475907\n",
      "\tTest Accuracy:  21.221907335398406\n"
     ]
    }
   ],
   "source": [
    "nb_preds = naiveBayes(X1_train,X1_test, y1_train,y1_test)\n",
    "nb_preds = naiveBayes(X2_train,X2_test, y2_train,y2_test)"
   ]
  },
  {
   "cell_type": "code",
   "execution_count": 273,
   "metadata": {},
   "outputs": [
    {
     "name": "stdout",
     "output_type": "stream",
     "text": [
      "Random Forest\n",
      "\tMean Squared Error:  0.526527384169248\n",
      "\tR2 Score:  -0.28974084685271495\n",
      "\tTraining Accuracy:  81.11051597928942\n",
      "\tTest Accuracy:  66.1701706979503\n",
      "Random Forest\n",
      "\tMean Squared Error:  0.4259210439596652\n",
      "\tR2 Score:  -0.09884238419961089\n",
      "\tTraining Accuracy:  72.57957182970574\n",
      "\tTest Accuracy:  64.1896790351282\n"
     ]
    },
    {
     "data": {
      "text/plain": [
       "array([0, 0, 0, ..., 0, 0, 0], dtype=int64)"
      ]
     },
     "execution_count": 273,
     "metadata": {},
     "output_type": "execute_result"
    }
   ],
   "source": [
    "from sklearn.ensemble import RandomForestClassifier\n",
    "def randomForest(est,dep,X_train,X_test, y_train,y_test):\n",
    "    print(\"Random Forest\")\n",
    "    rdforest = RandomForestClassifier(n_estimators=est,max_depth=dep)\n",
    "    rdforest.fit(X_train, y_train)\n",
    "    rdpreds = rdforest.predict(X_test)\n",
    "    print (\"\\tMean Squared Error: \",metrics.mean_squared_error(y_test,rdpreds))\n",
    "    print (\"\\tR2 Score: \",metrics.r2_score(y_test,rdpreds))\n",
    "    print (\"\\tTraining Accuracy: \",rdforest.score(X_train, y_train)*100)\n",
    "    print (\"\\tTest Accuracy: \",metrics.accuracy_score(np.round(y_test),np.round(rdpreds))*100)\n",
    "    return rdpreds\n",
    "randomForest(100,20,X1_train,X1_test, y1_train,y1_test)\n",
    "randomForest(100,20,X2_train,X2_test, y2_train,y2_test)"
   ]
  },
  {
   "cell_type": "code",
   "execution_count": 274,
   "metadata": {},
   "outputs": [
    {
     "name": "stdout",
     "output_type": "stream",
     "text": [
      "Xg Boost\n",
      "\tMean Squared Error:  0.3956369867527845\n",
      "\tR2 Score:  0.030878169525992205\n",
      "\tTraining Accuracy:  82.6053789096103\n",
      "\tTest Accuracy:  82.17557503460094\n",
      "Xg Boost\n",
      "\tMean Squared Error:  0.38288407038818956\n",
      "\tR2 Score:  0.012189581275413697\n",
      "\tTraining Accuracy:  79.45659054389638\n",
      "\tTest Accuracy:  79.15046464113887\n"
     ]
    },
    {
     "data": {
      "text/plain": [
       "array([-1,  0,  0, ...,  1,  0,  0], dtype=int64)"
      ]
     },
     "execution_count": 274,
     "metadata": {},
     "output_type": "execute_result"
    }
   ],
   "source": [
    "from xgboost import XGBClassifier\n",
    "def xgBoost(X_train,X_test, y_train,y_test):\n",
    "    print(\"Xg Boost\")\n",
    "    xgboost1 = XGBClassifier()\n",
    "    xgboost1.fit(X_train, y_train)\n",
    "    xgpreds = xgboost1.predict(X_test)\n",
    "    print (\"\\tMean Squared Error: \",metrics.mean_squared_error(y_test,xgpreds))\n",
    "    print (\"\\tR2 Score: \",metrics.r2_score(y_test,xgpreds))\n",
    "    print (\"\\tTraining Accuracy: \",xgboost1.score(X_train, y_train)*100)\n",
    "    print (\"\\tTest Accuracy: \",metrics.accuracy_score(np.round(y_test),np.round(xgpreds))*100)\n",
    "    return xgpreds\n",
    "xgBoost(X1_train,X1_test, y1_train,y1_test)\n",
    "xgBoost(X2_train,X2_test, y2_train,y2_test)"
   ]
  },
  {
   "cell_type": "code",
   "execution_count": null,
   "metadata": {},
   "outputs": [],
   "source": []
  },
  {
   "cell_type": "code",
   "execution_count": null,
   "metadata": {},
   "outputs": [],
   "source": []
  },
  {
   "cell_type": "code",
   "execution_count": null,
   "metadata": {},
   "outputs": [],
   "source": []
  },
  {
   "cell_type": "code",
   "execution_count": null,
   "metadata": {},
   "outputs": [],
   "source": []
  },
  {
   "cell_type": "code",
   "execution_count": null,
   "metadata": {},
   "outputs": [],
   "source": []
  },
  {
   "cell_type": "code",
   "execution_count": null,
   "metadata": {},
   "outputs": [],
   "source": []
  }
 ],
 "metadata": {
  "kernelspec": {
   "display_name": "Python 3",
   "language": "python",
   "name": "python3"
  },
  "language_info": {
   "codemirror_mode": {
    "name": "ipython",
    "version": 3
   },
   "file_extension": ".py",
   "mimetype": "text/x-python",
   "name": "python",
   "nbconvert_exporter": "python",
   "pygments_lexer": "ipython3",
   "version": "3.6.0"
  }
 },
 "nbformat": 4,
 "nbformat_minor": 2
}

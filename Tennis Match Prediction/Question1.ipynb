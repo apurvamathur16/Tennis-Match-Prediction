{
 "cells": [
  {
   "cell_type": "code",
   "execution_count": 1,
   "metadata": {},
   "outputs": [],
   "source": [
    "import pandas as pd\n",
    "import numpy as np\n",
    "\n",
    "import matplotlib.pyplot as plt\n",
    "%matplotlib inline\n",
    "import math\n",
    "\n",
    "import warnings\n",
    "warnings.filterwarnings('ignore')\n",
    "\n",
    "\n",
    "from sklearn import metrics\n",
    "\n",
    "from scipy.special import legendre\n",
    "from sklearn.preprocessing import PolynomialFeatures\n",
    "from sklearn.linear_model import LinearRegression\n",
    "import seaborn as sns"
   ]
  },
  {
   "cell_type": "markdown",
   "metadata": {},
   "source": [
    "### Reading CSV"
   ]
  },
  {
   "cell_type": "code",
   "execution_count": 2,
   "metadata": {},
   "outputs": [],
   "source": [
    "df = pd.read_csv('all_matches_final.csv')"
   ]
  },
  {
   "cell_type": "code",
   "execution_count": 3,
   "metadata": {},
   "outputs": [
    {
     "data": {
      "text/html": [
       "<div>\n",
       "<style scoped>\n",
       "    .dataframe tbody tr th:only-of-type {\n",
       "        vertical-align: middle;\n",
       "    }\n",
       "\n",
       "    .dataframe tbody tr th {\n",
       "        vertical-align: top;\n",
       "    }\n",
       "\n",
       "    .dataframe thead th {\n",
       "        text-align: right;\n",
       "    }\n",
       "</style>\n",
       "<table border=\"1\" class=\"dataframe\">\n",
       "  <thead>\n",
       "    <tr style=\"text-align: right;\">\n",
       "      <th></th>\n",
       "      <th>draw_size</th>\n",
       "      <th>tourney_date</th>\n",
       "      <th>match_num</th>\n",
       "      <th>Player1_id</th>\n",
       "      <th>Player1_seed</th>\n",
       "      <th>Player1_ht</th>\n",
       "      <th>Player1_age</th>\n",
       "      <th>Player1_rank</th>\n",
       "      <th>Player1_rank_points</th>\n",
       "      <th>Player2_id</th>\n",
       "      <th>...</th>\n",
       "      <th>l_ace</th>\n",
       "      <th>l_df</th>\n",
       "      <th>l_svpt</th>\n",
       "      <th>l_1stIn</th>\n",
       "      <th>l_1stWon</th>\n",
       "      <th>l_2ndWon</th>\n",
       "      <th>l_SvGms</th>\n",
       "      <th>l_bpSaved</th>\n",
       "      <th>l_bpFaced</th>\n",
       "      <th>y</th>\n",
       "    </tr>\n",
       "  </thead>\n",
       "  <tbody>\n",
       "    <tr>\n",
       "      <th>count</th>\n",
       "      <td>91957.000000</td>\n",
       "      <td>9.195700e+04</td>\n",
       "      <td>91957.000000</td>\n",
       "      <td>91957.000000</td>\n",
       "      <td>29123.000000</td>\n",
       "      <td>85269.000000</td>\n",
       "      <td>91768.000000</td>\n",
       "      <td>88574.000000</td>\n",
       "      <td>88574.000000</td>\n",
       "      <td>91957.000000</td>\n",
       "      <td>...</td>\n",
       "      <td>82354.000000</td>\n",
       "      <td>82354.000000</td>\n",
       "      <td>82354.000000</td>\n",
       "      <td>82354.000000</td>\n",
       "      <td>82354.000000</td>\n",
       "      <td>82354.000000</td>\n",
       "      <td>82354.00000</td>\n",
       "      <td>82354.00000</td>\n",
       "      <td>82354.000000</td>\n",
       "      <td>92020.000000</td>\n",
       "    </tr>\n",
       "    <tr>\n",
       "      <th>mean</th>\n",
       "      <td>52.479866</td>\n",
       "      <td>2.003720e+07</td>\n",
       "      <td>44.643138</td>\n",
       "      <td>103514.236785</td>\n",
       "      <td>7.330907</td>\n",
       "      <td>185.164573</td>\n",
       "      <td>25.727980</td>\n",
       "      <td>100.478741</td>\n",
       "      <td>1212.180516</td>\n",
       "      <td>103642.756767</td>\n",
       "      <td>...</td>\n",
       "      <td>4.756587</td>\n",
       "      <td>3.513721</td>\n",
       "      <td>80.730808</td>\n",
       "      <td>47.684411</td>\n",
       "      <td>31.641560</td>\n",
       "      <td>15.024455</td>\n",
       "      <td>12.04630</td>\n",
       "      <td>4.81055</td>\n",
       "      <td>8.762027</td>\n",
       "      <td>0.500000</td>\n",
       "    </tr>\n",
       "    <tr>\n",
       "      <th>std</th>\n",
       "      <td>37.929683</td>\n",
       "      <td>8.063131e+04</td>\n",
       "      <td>69.700276</td>\n",
       "      <td>3579.987407</td>\n",
       "      <td>6.402888</td>\n",
       "      <td>6.706831</td>\n",
       "      <td>3.685990</td>\n",
       "      <td>158.240459</td>\n",
       "      <td>1680.863174</td>\n",
       "      <td>4637.426335</td>\n",
       "      <td>...</td>\n",
       "      <td>4.598634</td>\n",
       "      <td>2.628285</td>\n",
       "      <td>29.509406</td>\n",
       "      <td>19.369342</td>\n",
       "      <td>14.430257</td>\n",
       "      <td>7.259284</td>\n",
       "      <td>4.19923</td>\n",
       "      <td>3.27229</td>\n",
       "      <td>4.125754</td>\n",
       "      <td>0.500003</td>\n",
       "    </tr>\n",
       "    <tr>\n",
       "      <th>min</th>\n",
       "      <td>4.000000</td>\n",
       "      <td>1.990123e+07</td>\n",
       "      <td>1.000000</td>\n",
       "      <td>100282.000000</td>\n",
       "      <td>1.000000</td>\n",
       "      <td>160.000000</td>\n",
       "      <td>14.762491</td>\n",
       "      <td>1.000000</td>\n",
       "      <td>0.000000</td>\n",
       "      <td>100284.000000</td>\n",
       "      <td>...</td>\n",
       "      <td>0.000000</td>\n",
       "      <td>0.000000</td>\n",
       "      <td>0.000000</td>\n",
       "      <td>0.000000</td>\n",
       "      <td>0.000000</td>\n",
       "      <td>0.000000</td>\n",
       "      <td>0.00000</td>\n",
       "      <td>-6.00000</td>\n",
       "      <td>0.000000</td>\n",
       "      <td>0.000000</td>\n",
       "    </tr>\n",
       "    <tr>\n",
       "      <th>25%</th>\n",
       "      <td>32.000000</td>\n",
       "      <td>1.997011e+07</td>\n",
       "      <td>8.000000</td>\n",
       "      <td>102000.000000</td>\n",
       "      <td>3.000000</td>\n",
       "      <td>180.000000</td>\n",
       "      <td>23.019849</td>\n",
       "      <td>25.000000</td>\n",
       "      <td>430.000000</td>\n",
       "      <td>101990.000000</td>\n",
       "      <td>...</td>\n",
       "      <td>2.000000</td>\n",
       "      <td>2.000000</td>\n",
       "      <td>59.000000</td>\n",
       "      <td>34.000000</td>\n",
       "      <td>21.000000</td>\n",
       "      <td>10.000000</td>\n",
       "      <td>9.00000</td>\n",
       "      <td>2.00000</td>\n",
       "      <td>6.000000</td>\n",
       "      <td>0.000000</td>\n",
       "    </tr>\n",
       "    <tr>\n",
       "      <th>50%</th>\n",
       "      <td>32.000000</td>\n",
       "      <td>2.003091e+07</td>\n",
       "      <td>21.000000</td>\n",
       "      <td>103252.000000</td>\n",
       "      <td>6.000000</td>\n",
       "      <td>185.000000</td>\n",
       "      <td>25.538672</td>\n",
       "      <td>58.000000</td>\n",
       "      <td>729.000000</td>\n",
       "      <td>103176.000000</td>\n",
       "      <td>...</td>\n",
       "      <td>4.000000</td>\n",
       "      <td>3.000000</td>\n",
       "      <td>75.000000</td>\n",
       "      <td>44.000000</td>\n",
       "      <td>29.000000</td>\n",
       "      <td>14.000000</td>\n",
       "      <td>11.00000</td>\n",
       "      <td>4.00000</td>\n",
       "      <td>8.000000</td>\n",
       "      <td>0.500000</td>\n",
       "    </tr>\n",
       "    <tr>\n",
       "      <th>75%</th>\n",
       "      <td>64.000000</td>\n",
       "      <td>2.011012e+07</td>\n",
       "      <td>41.000000</td>\n",
       "      <td>104468.000000</td>\n",
       "      <td>9.000000</td>\n",
       "      <td>190.000000</td>\n",
       "      <td>28.221766</td>\n",
       "      <td>105.000000</td>\n",
       "      <td>1272.000000</td>\n",
       "      <td>104386.000000</td>\n",
       "      <td>...</td>\n",
       "      <td>7.000000</td>\n",
       "      <td>5.000000</td>\n",
       "      <td>96.000000</td>\n",
       "      <td>58.000000</td>\n",
       "      <td>39.000000</td>\n",
       "      <td>19.000000</td>\n",
       "      <td>15.00000</td>\n",
       "      <td>7.00000</td>\n",
       "      <td>11.000000</td>\n",
       "      <td>1.000000</td>\n",
       "    </tr>\n",
       "    <tr>\n",
       "      <th>max</th>\n",
       "      <td>128.000000</td>\n",
       "      <td>2.018092e+07</td>\n",
       "      <td>701.000000</td>\n",
       "      <td>208029.000000</td>\n",
       "      <td>35.000000</td>\n",
       "      <td>208.000000</td>\n",
       "      <td>43.655031</td>\n",
       "      <td>2101.000000</td>\n",
       "      <td>16950.000000</td>\n",
       "      <td>207973.000000</td>\n",
       "      <td>...</td>\n",
       "      <td>103.000000</td>\n",
       "      <td>26.000000</td>\n",
       "      <td>489.000000</td>\n",
       "      <td>328.000000</td>\n",
       "      <td>284.000000</td>\n",
       "      <td>101.000000</td>\n",
       "      <td>91.00000</td>\n",
       "      <td>28.00000</td>\n",
       "      <td>35.000000</td>\n",
       "      <td>1.000000</td>\n",
       "    </tr>\n",
       "  </tbody>\n",
       "</table>\n",
       "<p>8 rows × 36 columns</p>\n",
       "</div>"
      ],
      "text/plain": [
       "          draw_size  tourney_date     match_num     Player1_id  Player1_seed  \\\n",
       "count  91957.000000  9.195700e+04  91957.000000   91957.000000  29123.000000   \n",
       "mean      52.479866  2.003720e+07     44.643138  103514.236785      7.330907   \n",
       "std       37.929683  8.063131e+04     69.700276    3579.987407      6.402888   \n",
       "min        4.000000  1.990123e+07      1.000000  100282.000000      1.000000   \n",
       "25%       32.000000  1.997011e+07      8.000000  102000.000000      3.000000   \n",
       "50%       32.000000  2.003091e+07     21.000000  103252.000000      6.000000   \n",
       "75%       64.000000  2.011012e+07     41.000000  104468.000000      9.000000   \n",
       "max      128.000000  2.018092e+07    701.000000  208029.000000     35.000000   \n",
       "\n",
       "         Player1_ht   Player1_age  Player1_rank  Player1_rank_points  \\\n",
       "count  85269.000000  91768.000000  88574.000000         88574.000000   \n",
       "mean     185.164573     25.727980    100.478741          1212.180516   \n",
       "std        6.706831      3.685990    158.240459          1680.863174   \n",
       "min      160.000000     14.762491      1.000000             0.000000   \n",
       "25%      180.000000     23.019849     25.000000           430.000000   \n",
       "50%      185.000000     25.538672     58.000000           729.000000   \n",
       "75%      190.000000     28.221766    105.000000          1272.000000   \n",
       "max      208.000000     43.655031   2101.000000         16950.000000   \n",
       "\n",
       "          Player2_id      ...              l_ace          l_df        l_svpt  \\\n",
       "count   91957.000000      ...       82354.000000  82354.000000  82354.000000   \n",
       "mean   103642.756767      ...           4.756587      3.513721     80.730808   \n",
       "std      4637.426335      ...           4.598634      2.628285     29.509406   \n",
       "min    100284.000000      ...           0.000000      0.000000      0.000000   \n",
       "25%    101990.000000      ...           2.000000      2.000000     59.000000   \n",
       "50%    103176.000000      ...           4.000000      3.000000     75.000000   \n",
       "75%    104386.000000      ...           7.000000      5.000000     96.000000   \n",
       "max    207973.000000      ...         103.000000     26.000000    489.000000   \n",
       "\n",
       "            l_1stIn      l_1stWon      l_2ndWon      l_SvGms    l_bpSaved  \\\n",
       "count  82354.000000  82354.000000  82354.000000  82354.00000  82354.00000   \n",
       "mean      47.684411     31.641560     15.024455     12.04630      4.81055   \n",
       "std       19.369342     14.430257      7.259284      4.19923      3.27229   \n",
       "min        0.000000      0.000000      0.000000      0.00000     -6.00000   \n",
       "25%       34.000000     21.000000     10.000000      9.00000      2.00000   \n",
       "50%       44.000000     29.000000     14.000000     11.00000      4.00000   \n",
       "75%       58.000000     39.000000     19.000000     15.00000      7.00000   \n",
       "max      328.000000    284.000000    101.000000     91.00000     28.00000   \n",
       "\n",
       "          l_bpFaced             y  \n",
       "count  82354.000000  92020.000000  \n",
       "mean       8.762027      0.500000  \n",
       "std        4.125754      0.500003  \n",
       "min        0.000000      0.000000  \n",
       "25%        6.000000      0.000000  \n",
       "50%        8.000000      0.500000  \n",
       "75%       11.000000      1.000000  \n",
       "max       35.000000      1.000000  \n",
       "\n",
       "[8 rows x 36 columns]"
      ]
     },
     "execution_count": 3,
     "metadata": {},
     "output_type": "execute_result"
    }
   ],
   "source": [
    "df.describe()"
   ]
  },
  {
   "cell_type": "code",
   "execution_count": 4,
   "metadata": {},
   "outputs": [
    {
     "name": "stdout",
     "output_type": "stream",
     "text": [
      "<class 'pandas.core.frame.DataFrame'>\n",
      "RangeIndex: 92020 entries, 0 to 92019\n",
      "Data columns (total 50 columns):\n",
      "tourney_id             91957 non-null object\n",
      "tourney_name           91957 non-null object\n",
      "surface                91839 non-null object\n",
      "draw_size              91957 non-null float64\n",
      "tourney_level          91957 non-null object\n",
      "tourney_date           91957 non-null float64\n",
      "match_num              91957 non-null float64\n",
      "Player1_id             91957 non-null float64\n",
      "Player1_seed           29123 non-null float64\n",
      "Player1_entry          14376 non-null object\n",
      "Player1_name           91957 non-null object\n",
      "Player1_hand           91941 non-null object\n",
      "Player1_ht             85269 non-null float64\n",
      "Player1_ioc            91957 non-null object\n",
      "Player1_age            91768 non-null float64\n",
      "Player1_rank           88574 non-null float64\n",
      "Player1_rank_points    88574 non-null float64\n",
      "Player2_id             91957 non-null float64\n",
      "Player2_seed           28172 non-null float64\n",
      "Player2_entry          14313 non-null object\n",
      "Player2_name           91957 non-null object\n",
      "Player2_hand           91912 non-null object\n",
      "Player2_ht             83964 non-null float64\n",
      "Player2_ioc            91957 non-null object\n",
      "Player2_age            91842 non-null float64\n",
      "Player2_rank           88527 non-null float64\n",
      "Player2_rank_points    88527 non-null float64\n",
      "score                  91955 non-null object\n",
      "best_of                91957 non-null float64\n",
      "round                  91957 non-null object\n",
      "minutes                79821 non-null float64\n",
      "w_ace                  82354 non-null float64\n",
      "w_df                   82354 non-null float64\n",
      "w_svpt                 82354 non-null float64\n",
      "w_1stIn                82354 non-null float64\n",
      "w_1stWon               82354 non-null float64\n",
      "w_2ndWon               82354 non-null float64\n",
      "w_SvGms                82354 non-null float64\n",
      "w_bpSaved              82354 non-null float64\n",
      "w_bpFaced              82354 non-null float64\n",
      "l_ace                  82354 non-null float64\n",
      "l_df                   82354 non-null float64\n",
      "l_svpt                 82354 non-null float64\n",
      "l_1stIn                82354 non-null float64\n",
      "l_1stWon               82354 non-null float64\n",
      "l_2ndWon               82354 non-null float64\n",
      "l_SvGms                82354 non-null float64\n",
      "l_bpSaved              82354 non-null float64\n",
      "l_bpFaced              82354 non-null float64\n",
      "y                      92020 non-null int64\n",
      "dtypes: float64(35), int64(1), object(14)\n",
      "memory usage: 35.1+ MB\n"
     ]
    }
   ],
   "source": [
    "df.info()"
   ]
  },
  {
   "cell_type": "markdown",
   "metadata": {},
   "source": [
    "### Betting Data as Numeric Features"
   ]
  },
  {
   "cell_type": "code",
   "execution_count": 5,
   "metadata": {},
   "outputs": [],
   "source": [
    "players = ['Player1_id','Player1_name','Player2_id','Player2_name']\n",
    "\n",
    "to_drop = ['tourney_id','tourney_date','score']\n",
    "\n",
    "cat_cols = ['tourney_name','surface','draw_size','tourney_level','Player1_entry','Player1_hand','Player1_ioc',\n",
    "            'Player2_entry','Player2_hand','Player2_ioc','best_of','round']\n",
    "\n",
    "\n",
    "num_cols = ['match_num','Player1_seed','Player1_ht','Player1_age','Player1_rank','Player1_rank_points',\n",
    "            'Player2_seed','Player2_ht','Player2_age','Player2_rank','Player2_rank_points','minutes','w_ace','w_df',\n",
    "            'w_svpt','w_1stIn','w_1stWon','w_2ndWon','w_SvGms','w_bpSaved','w_bpFaced','l_ace','l_df','l_svpt','l_1stIn',\n",
    "            'l_1stWon','l_2ndWon','l_SvGms','l_bpSaved','l_bpFaced']"
   ]
  },
  {
   "cell_type": "markdown",
   "metadata": {},
   "source": [
    "### Dropping Irrelevant Features"
   ]
  },
  {
   "cell_type": "code",
   "execution_count": 6,
   "metadata": {},
   "outputs": [],
   "source": [
    "df = df.drop(to_drop, axis=1)"
   ]
  },
  {
   "cell_type": "markdown",
   "metadata": {},
   "source": [
    "### Replacing Missing Values"
   ]
  },
  {
   "cell_type": "code",
   "execution_count": 7,
   "metadata": {},
   "outputs": [],
   "source": [
    "for i in cat_cols:\n",
    "    df[i] = df[i].replace(np.NaN, df[i].mode()[0])"
   ]
  },
  {
   "cell_type": "code",
   "execution_count": 8,
   "metadata": {},
   "outputs": [
    {
     "name": "stdout",
     "output_type": "stream",
     "text": [
      "match_num\n",
      "Player1_seed\n",
      "Player1_ht\n",
      "Player1_age\n",
      "Player1_rank\n",
      "Player1_rank_points\n",
      "Player2_seed\n",
      "Player2_ht\n",
      "Player2_age\n",
      "Player2_rank\n",
      "Player2_rank_points\n",
      "minutes\n",
      "w_ace\n",
      "w_df\n",
      "w_svpt\n",
      "w_1stIn\n",
      "w_1stWon\n",
      "w_2ndWon\n",
      "w_SvGms\n",
      "w_bpSaved\n",
      "w_bpFaced\n",
      "l_ace\n",
      "l_df\n",
      "l_svpt\n",
      "l_1stIn\n",
      "l_1stWon\n",
      "l_2ndWon\n",
      "l_SvGms\n",
      "l_bpSaved\n",
      "l_bpFaced\n"
     ]
    }
   ],
   "source": [
    "for i in num_cols:\n",
    "    print(i)\n",
    "    df[i] = df[i].replace(np.NaN,df[i].mean())"
   ]
  },
  {
   "cell_type": "markdown",
   "metadata": {},
   "source": [
    "### convert categorical data to numeric"
   ]
  },
  {
   "cell_type": "code",
   "execution_count": 9,
   "metadata": {},
   "outputs": [],
   "source": [
    "def convertCatToNum(dff):\n",
    "    dff_new = pd.get_dummies(dff, columns=cat_cols) \n",
    "    return dff_new"
   ]
  },
  {
   "cell_type": "code",
   "execution_count": 10,
   "metadata": {},
   "outputs": [
    {
     "data": {
      "text/html": [
       "<div>\n",
       "<style scoped>\n",
       "    .dataframe tbody tr th:only-of-type {\n",
       "        vertical-align: middle;\n",
       "    }\n",
       "\n",
       "    .dataframe tbody tr th {\n",
       "        vertical-align: top;\n",
       "    }\n",
       "\n",
       "    .dataframe thead th {\n",
       "        text-align: right;\n",
       "    }\n",
       "</style>\n",
       "<table border=\"1\" class=\"dataframe\">\n",
       "  <thead>\n",
       "    <tr style=\"text-align: right;\">\n",
       "      <th></th>\n",
       "      <th>match_num</th>\n",
       "      <th>Player1_id</th>\n",
       "      <th>Player1_seed</th>\n",
       "      <th>Player1_name</th>\n",
       "      <th>Player1_ht</th>\n",
       "      <th>Player1_age</th>\n",
       "      <th>Player1_rank</th>\n",
       "      <th>Player1_rank_points</th>\n",
       "      <th>Player2_id</th>\n",
       "      <th>Player2_seed</th>\n",
       "      <th>...</th>\n",
       "      <th>best_of_5.0</th>\n",
       "      <th>round_BR</th>\n",
       "      <th>round_F</th>\n",
       "      <th>round_QF</th>\n",
       "      <th>round_R128</th>\n",
       "      <th>round_R16</th>\n",
       "      <th>round_R32</th>\n",
       "      <th>round_R64</th>\n",
       "      <th>round_RR</th>\n",
       "      <th>round_SF</th>\n",
       "    </tr>\n",
       "  </thead>\n",
       "  <tbody>\n",
       "    <tr>\n",
       "      <th>0</th>\n",
       "      <td>279.0</td>\n",
       "      <td>105413.0</td>\n",
       "      <td>7.330907</td>\n",
       "      <td>Andrej Martin</td>\n",
       "      <td>180.0</td>\n",
       "      <td>27.822040</td>\n",
       "      <td>149.0</td>\n",
       "      <td>372.0</td>\n",
       "      <td>104797.0</td>\n",
       "      <td>7.257774</td>\n",
       "      <td>...</td>\n",
       "      <td>0</td>\n",
       "      <td>0</td>\n",
       "      <td>0</td>\n",
       "      <td>0</td>\n",
       "      <td>0</td>\n",
       "      <td>0</td>\n",
       "      <td>1</td>\n",
       "      <td>0</td>\n",
       "      <td>0</td>\n",
       "      <td>0</td>\n",
       "    </tr>\n",
       "    <tr>\n",
       "      <th>1</th>\n",
       "      <td>103.0</td>\n",
       "      <td>104269.0</td>\n",
       "      <td>7.330907</td>\n",
       "      <td>Fernando Verdasco</td>\n",
       "      <td>188.0</td>\n",
       "      <td>21.787817</td>\n",
       "      <td>48.0</td>\n",
       "      <td>770.0</td>\n",
       "      <td>104925.0</td>\n",
       "      <td>7.257774</td>\n",
       "      <td>...</td>\n",
       "      <td>1</td>\n",
       "      <td>0</td>\n",
       "      <td>0</td>\n",
       "      <td>0</td>\n",
       "      <td>0</td>\n",
       "      <td>0</td>\n",
       "      <td>1</td>\n",
       "      <td>0</td>\n",
       "      <td>0</td>\n",
       "      <td>0</td>\n",
       "    </tr>\n",
       "    <tr>\n",
       "      <th>2</th>\n",
       "      <td>5.0</td>\n",
       "      <td>101733.0</td>\n",
       "      <td>4.000000</td>\n",
       "      <td>Jan Siemerink</td>\n",
       "      <td>183.0</td>\n",
       "      <td>26.732375</td>\n",
       "      <td>17.0</td>\n",
       "      <td>1530.0</td>\n",
       "      <td>102025.0</td>\n",
       "      <td>7.257774</td>\n",
       "      <td>...</td>\n",
       "      <td>0</td>\n",
       "      <td>0</td>\n",
       "      <td>0</td>\n",
       "      <td>0</td>\n",
       "      <td>0</td>\n",
       "      <td>0</td>\n",
       "      <td>1</td>\n",
       "      <td>0</td>\n",
       "      <td>0</td>\n",
       "      <td>0</td>\n",
       "    </tr>\n",
       "    <tr>\n",
       "      <th>3</th>\n",
       "      <td>27.0</td>\n",
       "      <td>103103.0</td>\n",
       "      <td>7.000000</td>\n",
       "      <td>Dominik Hrbaty</td>\n",
       "      <td>183.0</td>\n",
       "      <td>24.678987</td>\n",
       "      <td>44.0</td>\n",
       "      <td>772.0</td>\n",
       "      <td>103909.0</td>\n",
       "      <td>7.257774</td>\n",
       "      <td>...</td>\n",
       "      <td>0</td>\n",
       "      <td>0</td>\n",
       "      <td>0</td>\n",
       "      <td>1</td>\n",
       "      <td>0</td>\n",
       "      <td>0</td>\n",
       "      <td>0</td>\n",
       "      <td>0</td>\n",
       "      <td>0</td>\n",
       "      <td>0</td>\n",
       "    </tr>\n",
       "    <tr>\n",
       "      <th>4</th>\n",
       "      <td>19.0</td>\n",
       "      <td>104379.0</td>\n",
       "      <td>7.330907</td>\n",
       "      <td>Todd Reid</td>\n",
       "      <td>180.0</td>\n",
       "      <td>20.010951</td>\n",
       "      <td>129.0</td>\n",
       "      <td>315.0</td>\n",
       "      <td>103693.0</td>\n",
       "      <td>7.257774</td>\n",
       "      <td>...</td>\n",
       "      <td>0</td>\n",
       "      <td>0</td>\n",
       "      <td>0</td>\n",
       "      <td>0</td>\n",
       "      <td>0</td>\n",
       "      <td>0</td>\n",
       "      <td>0</td>\n",
       "      <td>1</td>\n",
       "      <td>0</td>\n",
       "      <td>0</td>\n",
       "    </tr>\n",
       "  </tbody>\n",
       "</table>\n",
       "<p>5 rows × 2631 columns</p>\n",
       "</div>"
      ],
      "text/plain": [
       "   match_num  Player1_id  Player1_seed       Player1_name  Player1_ht  \\\n",
       "0      279.0    105413.0      7.330907      Andrej Martin       180.0   \n",
       "1      103.0    104269.0      7.330907  Fernando Verdasco       188.0   \n",
       "2        5.0    101733.0      4.000000      Jan Siemerink       183.0   \n",
       "3       27.0    103103.0      7.000000     Dominik Hrbaty       183.0   \n",
       "4       19.0    104379.0      7.330907          Todd Reid       180.0   \n",
       "\n",
       "   Player1_age  Player1_rank  Player1_rank_points  Player2_id  Player2_seed  \\\n",
       "0    27.822040         149.0                372.0    104797.0      7.257774   \n",
       "1    21.787817          48.0                770.0    104925.0      7.257774   \n",
       "2    26.732375          17.0               1530.0    102025.0      7.257774   \n",
       "3    24.678987          44.0                772.0    103909.0      7.257774   \n",
       "4    20.010951         129.0                315.0    103693.0      7.257774   \n",
       "\n",
       "     ...    best_of_5.0  round_BR  round_F  round_QF  round_R128  round_R16  \\\n",
       "0    ...              0         0        0         0           0          0   \n",
       "1    ...              1         0        0         0           0          0   \n",
       "2    ...              0         0        0         0           0          0   \n",
       "3    ...              0         0        0         1           0          0   \n",
       "4    ...              0         0        0         0           0          0   \n",
       "\n",
       "   round_R32  round_R64  round_RR  round_SF  \n",
       "0          1          0         0         0  \n",
       "1          1          0         0         0  \n",
       "2          1          0         0         0  \n",
       "3          0          0         0         0  \n",
       "4          0          1         0         0  \n",
       "\n",
       "[5 rows x 2631 columns]"
      ]
     },
     "execution_count": 10,
     "metadata": {},
     "output_type": "execute_result"
    }
   ],
   "source": [
    "df = convertCatToNum(df)\n",
    "df.head()"
   ]
  },
  {
   "cell_type": "markdown",
   "metadata": {},
   "source": [
    "### Normalize numeric features"
   ]
  },
  {
   "cell_type": "code",
   "execution_count": 11,
   "metadata": {},
   "outputs": [
    {
     "data": {
      "text/html": [
       "<div>\n",
       "<style scoped>\n",
       "    .dataframe tbody tr th:only-of-type {\n",
       "        vertical-align: middle;\n",
       "    }\n",
       "\n",
       "    .dataframe tbody tr th {\n",
       "        vertical-align: top;\n",
       "    }\n",
       "\n",
       "    .dataframe thead th {\n",
       "        text-align: right;\n",
       "    }\n",
       "</style>\n",
       "<table border=\"1\" class=\"dataframe\">\n",
       "  <thead>\n",
       "    <tr style=\"text-align: right;\">\n",
       "      <th></th>\n",
       "      <th>match_num</th>\n",
       "      <th>Player1_id</th>\n",
       "      <th>Player1_seed</th>\n",
       "      <th>Player1_name</th>\n",
       "      <th>Player1_ht</th>\n",
       "      <th>Player1_age</th>\n",
       "      <th>Player1_rank</th>\n",
       "      <th>Player1_rank_points</th>\n",
       "      <th>Player2_id</th>\n",
       "      <th>Player2_seed</th>\n",
       "      <th>...</th>\n",
       "      <th>best_of_5.0</th>\n",
       "      <th>round_BR</th>\n",
       "      <th>round_F</th>\n",
       "      <th>round_QF</th>\n",
       "      <th>round_R128</th>\n",
       "      <th>round_R16</th>\n",
       "      <th>round_R32</th>\n",
       "      <th>round_R64</th>\n",
       "      <th>round_RR</th>\n",
       "      <th>round_SF</th>\n",
       "    </tr>\n",
       "  </thead>\n",
       "  <tbody>\n",
       "    <tr>\n",
       "      <th>0</th>\n",
       "      <td>0.397143</td>\n",
       "      <td>105413.0</td>\n",
       "      <td>0.186203</td>\n",
       "      <td>Andrej Martin</td>\n",
       "      <td>0.416667</td>\n",
       "      <td>0.452004</td>\n",
       "      <td>0.070476</td>\n",
       "      <td>0.021947</td>\n",
       "      <td>104797.0</td>\n",
       "      <td>0.184052</td>\n",
       "      <td>...</td>\n",
       "      <td>0</td>\n",
       "      <td>0</td>\n",
       "      <td>0</td>\n",
       "      <td>0</td>\n",
       "      <td>0</td>\n",
       "      <td>0</td>\n",
       "      <td>1</td>\n",
       "      <td>0</td>\n",
       "      <td>0</td>\n",
       "      <td>0</td>\n",
       "    </tr>\n",
       "    <tr>\n",
       "      <th>1</th>\n",
       "      <td>0.145714</td>\n",
       "      <td>104269.0</td>\n",
       "      <td>0.186203</td>\n",
       "      <td>Fernando Verdasco</td>\n",
       "      <td>0.583333</td>\n",
       "      <td>0.243154</td>\n",
       "      <td>0.022381</td>\n",
       "      <td>0.045428</td>\n",
       "      <td>104925.0</td>\n",
       "      <td>0.184052</td>\n",
       "      <td>...</td>\n",
       "      <td>1</td>\n",
       "      <td>0</td>\n",
       "      <td>0</td>\n",
       "      <td>0</td>\n",
       "      <td>0</td>\n",
       "      <td>0</td>\n",
       "      <td>1</td>\n",
       "      <td>0</td>\n",
       "      <td>0</td>\n",
       "      <td>0</td>\n",
       "    </tr>\n",
       "    <tr>\n",
       "      <th>2</th>\n",
       "      <td>0.005714</td>\n",
       "      <td>101733.0</td>\n",
       "      <td>0.088235</td>\n",
       "      <td>Jan Siemerink</td>\n",
       "      <td>0.479167</td>\n",
       "      <td>0.414290</td>\n",
       "      <td>0.007619</td>\n",
       "      <td>0.090265</td>\n",
       "      <td>102025.0</td>\n",
       "      <td>0.184052</td>\n",
       "      <td>...</td>\n",
       "      <td>0</td>\n",
       "      <td>0</td>\n",
       "      <td>0</td>\n",
       "      <td>0</td>\n",
       "      <td>0</td>\n",
       "      <td>0</td>\n",
       "      <td>1</td>\n",
       "      <td>0</td>\n",
       "      <td>0</td>\n",
       "      <td>0</td>\n",
       "    </tr>\n",
       "    <tr>\n",
       "      <th>3</th>\n",
       "      <td>0.037143</td>\n",
       "      <td>103103.0</td>\n",
       "      <td>0.176471</td>\n",
       "      <td>Dominik Hrbaty</td>\n",
       "      <td>0.479167</td>\n",
       "      <td>0.343220</td>\n",
       "      <td>0.020476</td>\n",
       "      <td>0.045546</td>\n",
       "      <td>103909.0</td>\n",
       "      <td>0.184052</td>\n",
       "      <td>...</td>\n",
       "      <td>0</td>\n",
       "      <td>0</td>\n",
       "      <td>0</td>\n",
       "      <td>1</td>\n",
       "      <td>0</td>\n",
       "      <td>0</td>\n",
       "      <td>0</td>\n",
       "      <td>0</td>\n",
       "      <td>0</td>\n",
       "      <td>0</td>\n",
       "    </tr>\n",
       "    <tr>\n",
       "      <th>4</th>\n",
       "      <td>0.025714</td>\n",
       "      <td>104379.0</td>\n",
       "      <td>0.186203</td>\n",
       "      <td>Todd Reid</td>\n",
       "      <td>0.416667</td>\n",
       "      <td>0.181655</td>\n",
       "      <td>0.060952</td>\n",
       "      <td>0.018584</td>\n",
       "      <td>103693.0</td>\n",
       "      <td>0.184052</td>\n",
       "      <td>...</td>\n",
       "      <td>0</td>\n",
       "      <td>0</td>\n",
       "      <td>0</td>\n",
       "      <td>0</td>\n",
       "      <td>0</td>\n",
       "      <td>0</td>\n",
       "      <td>0</td>\n",
       "      <td>1</td>\n",
       "      <td>0</td>\n",
       "      <td>0</td>\n",
       "    </tr>\n",
       "  </tbody>\n",
       "</table>\n",
       "<p>5 rows × 2631 columns</p>\n",
       "</div>"
      ],
      "text/plain": [
       "   match_num  Player1_id  Player1_seed       Player1_name  Player1_ht  \\\n",
       "0   0.397143    105413.0      0.186203      Andrej Martin    0.416667   \n",
       "1   0.145714    104269.0      0.186203  Fernando Verdasco    0.583333   \n",
       "2   0.005714    101733.0      0.088235      Jan Siemerink    0.479167   \n",
       "3   0.037143    103103.0      0.176471     Dominik Hrbaty    0.479167   \n",
       "4   0.025714    104379.0      0.186203          Todd Reid    0.416667   \n",
       "\n",
       "   Player1_age  Player1_rank  Player1_rank_points  Player2_id  Player2_seed  \\\n",
       "0     0.452004      0.070476             0.021947    104797.0      0.184052   \n",
       "1     0.243154      0.022381             0.045428    104925.0      0.184052   \n",
       "2     0.414290      0.007619             0.090265    102025.0      0.184052   \n",
       "3     0.343220      0.020476             0.045546    103909.0      0.184052   \n",
       "4     0.181655      0.060952             0.018584    103693.0      0.184052   \n",
       "\n",
       "     ...    best_of_5.0  round_BR  round_F  round_QF  round_R128  round_R16  \\\n",
       "0    ...              0         0        0         0           0          0   \n",
       "1    ...              1         0        0         0           0          0   \n",
       "2    ...              0         0        0         0           0          0   \n",
       "3    ...              0         0        0         1           0          0   \n",
       "4    ...              0         0        0         0           0          0   \n",
       "\n",
       "   round_R32  round_R64  round_RR  round_SF  \n",
       "0          1          0         0         0  \n",
       "1          1          0         0         0  \n",
       "2          1          0         0         0  \n",
       "3          0          0         0         0  \n",
       "4          0          1         0         0  \n",
       "\n",
       "[5 rows x 2631 columns]"
      ]
     },
     "execution_count": 11,
     "metadata": {},
     "output_type": "execute_result"
    }
   ],
   "source": [
    "def normalize(dff,col_name_list):\n",
    "    result = dff.copy()\n",
    "    for feature_name in col_name_list:\n",
    "        max_value = dff[feature_name].max()\n",
    "        min_value = dff[feature_name].min()\n",
    "        result[feature_name] = (dff[feature_name] - min_value) / (max_value - min_value)\n",
    "    return result\n",
    "\n",
    "\n",
    "df = normalize(df,num_cols)\n",
    "df.head()"
   ]
  },
  {
   "cell_type": "code",
   "execution_count": 12,
   "metadata": {},
   "outputs": [
    {
     "name": "stderr",
     "output_type": "stream",
     "text": [
      "C:\\Users\\mathu\\Anaconda3\\lib\\site-packages\\matplotlib\\axes\\_axes.py:6462: UserWarning: The 'normed' kwarg is deprecated, and has been replaced by the 'density' kwarg.\n",
      "  warnings.warn(\"The 'normed' kwarg is deprecated, and has been \"\n",
      "No handles with labels found to put in legend.\n"
     ]
    },
    {
     "data": {
      "image/png": "[encoded data removed]",
      "text/plain": [
       "<Figure size 432x288 with 1 Axes>"
      ]
     },
     "metadata": {},
     "output_type": "display_data"
    },
    {
     "name": "stderr",
     "output_type": "stream",
     "text": [
      "C:\\Users\\mathu\\Anaconda3\\lib\\site-packages\\matplotlib\\axes\\_axes.py:6462: UserWarning: The 'normed' kwarg is deprecated, and has been replaced by the 'density' kwarg.\n",
      "  warnings.warn(\"The 'normed' kwarg is deprecated, and has been \"\n",
      "No handles with labels found to put in legend.\n"
     ]
    },
    {
     "data": {
      "image/png": "[encoded data removed]",
      "text/plain": [
       "<Figure size 432x288 with 1 Axes>"
      ]
     },
     "metadata": {},
     "output_type": "display_data"
    },
    {
     "name": "stderr",
     "output_type": "stream",
     "text": [
      "C:\\Users\\mathu\\Anaconda3\\lib\\site-packages\\matplotlib\\axes\\_axes.py:6462: UserWarning: The 'normed' kwarg is deprecated, and has been replaced by the 'density' kwarg.\n",
      "  warnings.warn(\"The 'normed' kwarg is deprecated, and has been \"\n",
      "No handles with labels found to put in legend.\n"
     ]
    },
    {
     "data": {
      "image/png": "[encoded data removed]",
      "text/plain": [
       "<Figure size 432x288 with 1 Axes>"
      ]
     },
     "metadata": {},
     "output_type": "display_data"
    },
    {
     "name": "stderr",
     "output_type": "stream",
     "text": [
      "C:\\Users\\mathu\\Anaconda3\\lib\\site-packages\\matplotlib\\axes\\_axes.py:6462: UserWarning: The 'normed' kwarg is deprecated, and has been replaced by the 'density' kwarg.\n",
      "  warnings.warn(\"The 'normed' kwarg is deprecated, and has been \"\n",
      "No handles with labels found to put in legend.\n"
     ]
    },
    {
     "data": {
      "image/png": "[encoded data removed]",
      "text/plain": [
       "<Figure size 432x288 with 1 Axes>"
      ]
     },
     "metadata": {},
     "output_type": "display_data"
    },
    {
     "name": "stderr",
     "output_type": "stream",
     "text": [
      "C:\\Users\\mathu\\Anaconda3\\lib\\site-packages\\matplotlib\\axes\\_axes.py:6462: UserWarning: The 'normed' kwarg is deprecated, and has been replaced by the 'density' kwarg.\n",
      "  warnings.warn(\"The 'normed' kwarg is deprecated, and has been \"\n",
      "No handles with labels found to put in legend.\n"
     ]
    },
    {
     "data": {
      "image/png": "[encoded data removed]",
      "text/plain": [
       "<Figure size 432x288 with 1 Axes>"
      ]
     },
     "metadata": {},
     "output_type": "display_data"
    },
    {
     "name": "stderr",
     "output_type": "stream",
     "text": [
      "C:\\Users\\mathu\\Anaconda3\\lib\\site-packages\\matplotlib\\axes\\_axes.py:6462: UserWarning: The 'normed' kwarg is deprecated, and has been replaced by the 'density' kwarg.\n",
      "  warnings.warn(\"The 'normed' kwarg is deprecated, and has been \"\n",
      "No handles with labels found to put in legend.\n"
     ]
    },
    {
     "data": {
      "image/png": "[encoded data removed]",
      "text/plain": [
       "<Figure size 432x288 with 1 Axes>"
      ]
     },
     "metadata": {},
     "output_type": "display_data"
    },
    {
     "name": "stderr",
     "output_type": "stream",
     "text": [
      "C:\\Users\\mathu\\Anaconda3\\lib\\site-packages\\matplotlib\\axes\\_axes.py:6462: UserWarning: The 'normed' kwarg is deprecated, and has been replaced by the 'density' kwarg.\n",
      "  warnings.warn(\"The 'normed' kwarg is deprecated, and has been \"\n",
      "No handles with labels found to put in legend.\n"
     ]
    },
    {
     "data": {
      "image/png": "[encoded data removed]",
      "text/plain": [
       "<Figure size 432x288 with 1 Axes>"
      ]
     },
     "metadata": {},
     "output_type": "display_data"
    },
    {
     "name": "stderr",
     "output_type": "stream",
     "text": [
      "C:\\Users\\mathu\\Anaconda3\\lib\\site-packages\\matplotlib\\axes\\_axes.py:6462: UserWarning: The 'normed' kwarg is deprecated, and has been replaced by the 'density' kwarg.\n",
      "  warnings.warn(\"The 'normed' kwarg is deprecated, and has been \"\n",
      "No handles with labels found to put in legend.\n"
     ]
    },
    {
     "data": {
      "image/png": "[encoded data removed]",
      "text/plain": [
       "<Figure size 432x288 with 1 Axes>"
      ]
     },
     "metadata": {},
     "output_type": "display_data"
    },
    {
     "name": "stderr",
     "output_type": "stream",
     "text": [
      "C:\\Users\\mathu\\Anaconda3\\lib\\site-packages\\matplotlib\\axes\\_axes.py:6462: UserWarning: The 'normed' kwarg is deprecated, and has been replaced by the 'density' kwarg.\n",
      "  warnings.warn(\"The 'normed' kwarg is deprecated, and has been \"\n",
      "No handles with labels found to put in legend.\n"
     ]
    },
    {
     "data": {
      "image/png": "[encoded data removed]",
      "text/plain": [
       "<Figure size 432x288 with 1 Axes>"
      ]
     },
     "metadata": {},
     "output_type": "display_data"
    },
    {
     "name": "stderr",
     "output_type": "stream",
     "text": [
      "C:\\Users\\mathu\\Anaconda3\\lib\\site-packages\\matplotlib\\axes\\_axes.py:6462: UserWarning: The 'normed' kwarg is deprecated, and has been replaced by the 'density' kwarg.\n",
      "  warnings.warn(\"The 'normed' kwarg is deprecated, and has been \"\n",
      "No handles with labels found to put in legend.\n"
     ]
    },
    {
     "data": {
      "image/png": "[encoded data removed]",
      "text/plain": [
       "<Figure size 432x288 with 1 Axes>"
      ]
     },
     "metadata": {},
     "output_type": "display_data"
    },
    {
     "name": "stderr",
     "output_type": "stream",
     "text": [
      "C:\\Users\\mathu\\Anaconda3\\lib\\site-packages\\matplotlib\\axes\\_axes.py:6462: UserWarning: The 'normed' kwarg is deprecated, and has been replaced by the 'density' kwarg.\n",
      "  warnings.warn(\"The 'normed' kwarg is deprecated, and has been \"\n",
      "No handles with labels found to put in legend.\n"
     ]
    },
    {
     "data": {
      "image/png": "[encoded data removed]",
      "text/plain": [
       "<Figure size 432x288 with 1 Axes>"
      ]
     },
     "metadata": {},
     "output_type": "display_data"
    },
    {
     "name": "stderr",
     "output_type": "stream",
     "text": [
      "C:\\Users\\mathu\\Anaconda3\\lib\\site-packages\\matplotlib\\axes\\_axes.py:6462: UserWarning: The 'normed' kwarg is deprecated, and has been replaced by the 'density' kwarg.\n",
      "  warnings.warn(\"The 'normed' kwarg is deprecated, and has been \"\n",
      "No handles with labels found to put in legend.\n"
     ]
    },
    {
     "data": {
      "image/png": "[encoded data removed]",
      "text/plain": [
       "<Figure size 432x288 with 1 Axes>"
      ]
     },
     "metadata": {},
     "output_type": "display_data"
    },
    {
     "name": "stderr",
     "output_type": "stream",
     "text": [
      "C:\\Users\\mathu\\Anaconda3\\lib\\site-packages\\matplotlib\\axes\\_axes.py:6462: UserWarning: The 'normed' kwarg is deprecated, and has been replaced by the 'density' kwarg.\n",
      "  warnings.warn(\"The 'normed' kwarg is deprecated, and has been \"\n",
      "No handles with labels found to put in legend.\n"
     ]
    },
    {
     "data": {
      "image/png": "[encoded data removed]",
      "text/plain": [
       "<Figure size 432x288 with 1 Axes>"
      ]
     },
     "metadata": {},
     "output_type": "display_data"
    },
    {
     "name": "stderr",
     "output_type": "stream",
     "text": [
      "C:\\Users\\mathu\\Anaconda3\\lib\\site-packages\\matplotlib\\axes\\_axes.py:6462: UserWarning: The 'normed' kwarg is deprecated, and has been replaced by the 'density' kwarg.\n",
      "  warnings.warn(\"The 'normed' kwarg is deprecated, and has been \"\n",
      "No handles with labels found to put in legend.\n"
     ]
    },
    {
     "data": {
      "image/png": "[encoded data removed]",
      "text/plain": [
       "<Figure size 432x288 with 1 Axes>"
      ]
     },
     "metadata": {},
     "output_type": "display_data"
    },
    {
     "name": "stderr",
     "output_type": "stream",
     "text": [
      "C:\\Users\\mathu\\Anaconda3\\lib\\site-packages\\matplotlib\\axes\\_axes.py:6462: UserWarning: The 'normed' kwarg is deprecated, and has been replaced by the 'density' kwarg.\n",
      "  warnings.warn(\"The 'normed' kwarg is deprecated, and has been \"\n",
      "No handles with labels found to put in legend.\n"
     ]
    },
    {
     "data": {
      "image/png": "[encoded data removed]",
      "text/plain": [
       "<Figure size 432x288 with 1 Axes>"
      ]
     },
     "metadata": {},
     "output_type": "display_data"
    },
    {
     "name": "stderr",
     "output_type": "stream",
     "text": [
      "C:\\Users\\mathu\\Anaconda3\\lib\\site-packages\\matplotlib\\axes\\_axes.py:6462: UserWarning: The 'normed' kwarg is deprecated, and has been replaced by the 'density' kwarg.\n",
      "  warnings.warn(\"The 'normed' kwarg is deprecated, and has been \"\n",
      "No handles with labels found to put in legend.\n"
     ]
    },
    {
     "data": {
      "image/png": "[encoded data removed]",
      "text/plain": [
       "<Figure size 432x288 with 1 Axes>"
      ]
     },
     "metadata": {},
     "output_type": "display_data"
    },
    {
     "name": "stderr",
     "output_type": "stream",
     "text": [
      "C:\\Users\\mathu\\Anaconda3\\lib\\site-packages\\matplotlib\\axes\\_axes.py:6462: UserWarning: The 'normed' kwarg is deprecated, and has been replaced by the 'density' kwarg.\n",
      "  warnings.warn(\"The 'normed' kwarg is deprecated, and has been \"\n",
      "No handles with labels found to put in legend.\n"
     ]
    },
    {
     "data": {
      "image/png": "[encoded data removed]",
      "text/plain": [
       "<Figure size 432x288 with 1 Axes>"
      ]
     },
     "metadata": {},
     "output_type": "display_data"
    },
    {
     "name": "stderr",
     "output_type": "stream",
     "text": [
      "C:\\Users\\mathu\\Anaconda3\\lib\\site-packages\\matplotlib\\axes\\_axes.py:6462: UserWarning: The 'normed' kwarg is deprecated, and has been replaced by the 'density' kwarg.\n",
      "  warnings.warn(\"The 'normed' kwarg is deprecated, and has been \"\n",
      "No handles with labels found to put in legend.\n"
     ]
    },
    {
     "data": {
      "image/png": "[encoded data removed]",
      "text/plain": [
       "<Figure size 432x288 with 1 Axes>"
      ]
     },
     "metadata": {},
     "output_type": "display_data"
    },
    {
     "name": "stderr",
     "output_type": "stream",
     "text": [
      "C:\\Users\\mathu\\Anaconda3\\lib\\site-packages\\matplotlib\\axes\\_axes.py:6462: UserWarning: The 'normed' kwarg is deprecated, and has been replaced by the 'density' kwarg.\n",
      "  warnings.warn(\"The 'normed' kwarg is deprecated, and has been \"\n",
      "No handles with labels found to put in legend.\n"
     ]
    },
    {
     "data": {
      "image/png": "[encoded data removed]",
      "text/plain": [
       "<Figure size 432x288 with 1 Axes>"
      ]
     },
     "metadata": {},
     "output_type": "display_data"
    },
    {
     "name": "stderr",
     "output_type": "stream",
     "text": [
      "C:\\Users\\mathu\\Anaconda3\\lib\\site-packages\\matplotlib\\axes\\_axes.py:6462: UserWarning: The 'normed' kwarg is deprecated, and has been replaced by the 'density' kwarg.\n",
      "  warnings.warn(\"The 'normed' kwarg is deprecated, and has been \"\n",
      "No handles with labels found to put in legend.\n"
     ]
    },
    {
     "data": {
      "image/png": "[encoded data removed]",
      "text/plain": [
       "<Figure size 432x288 with 1 Axes>"
      ]
     },
     "metadata": {},
     "output_type": "display_data"
    },
    {
     "name": "stderr",
     "output_type": "stream",
     "text": [
      "C:\\Users\\mathu\\Anaconda3\\lib\\site-packages\\matplotlib\\axes\\_axes.py:6462: UserWarning: The 'normed' kwarg is deprecated, and has been replaced by the 'density' kwarg.\n",
      "  warnings.warn(\"The 'normed' kwarg is deprecated, and has been \"\n",
      "No handles with labels found to put in legend.\n"
     ]
    },
    {
     "data": {
      "image/png": "[encoded data removed]",
      "text/plain": [
       "<Figure size 432x288 with 1 Axes>"
      ]
     },
     "metadata": {},
     "output_type": "display_data"
    },
    {
     "name": "stderr",
     "output_type": "stream",
     "text": [
      "C:\\Users\\mathu\\Anaconda3\\lib\\site-packages\\matplotlib\\axes\\_axes.py:6462: UserWarning: The 'normed' kwarg is deprecated, and has been replaced by the 'density' kwarg.\n",
      "  warnings.warn(\"The 'normed' kwarg is deprecated, and has been \"\n",
      "No handles with labels found to put in legend.\n"
     ]
    },
    {
     "data": {
      "image/png": "[encoded data removed]",
      "text/plain": [
       "<Figure size 432x288 with 1 Axes>"
      ]
     },
     "metadata": {},
     "output_type": "display_data"
    },
    {
     "name": "stderr",
     "output_type": "stream",
     "text": [
      "C:\\Users\\mathu\\Anaconda3\\lib\\site-packages\\matplotlib\\axes\\_axes.py:6462: UserWarning: The 'normed' kwarg is deprecated, and has been replaced by the 'density' kwarg.\n",
      "  warnings.warn(\"The 'normed' kwarg is deprecated, and has been \"\n",
      "No handles with labels found to put in legend.\n"
     ]
    },
    {
     "data": {
      "image/png": "[encoded data removed]",
      "text/plain": [
       "<Figure size 432x288 with 1 Axes>"
      ]
     },
     "metadata": {},
     "output_type": "display_data"
    },
    {
     "name": "stderr",
     "output_type": "stream",
     "text": [
      "C:\\Users\\mathu\\Anaconda3\\lib\\site-packages\\matplotlib\\axes\\_axes.py:6462: UserWarning: The 'normed' kwarg is deprecated, and has been replaced by the 'density' kwarg.\n",
      "  warnings.warn(\"The 'normed' kwarg is deprecated, and has been \"\n",
      "No handles with labels found to put in legend.\n"
     ]
    },
    {
     "data": {
      "image/png": "[encoded data removed]",
      "text/plain": [
       "<Figure size 432x288 with 1 Axes>"
      ]
     },
     "metadata": {},
     "output_type": "display_data"
    },
    {
     "name": "stderr",
     "output_type": "stream",
     "text": [
      "C:\\Users\\mathu\\Anaconda3\\lib\\site-packages\\matplotlib\\axes\\_axes.py:6462: UserWarning: The 'normed' kwarg is deprecated, and has been replaced by the 'density' kwarg.\n",
      "  warnings.warn(\"The 'normed' kwarg is deprecated, and has been \"\n",
      "No handles with labels found to put in legend.\n"
     ]
    },
    {
     "data": {
      "image/png": "[encoded data removed]",
      "text/plain": [
       "<Figure size 432x288 with 1 Axes>"
      ]
     },
     "metadata": {},
     "output_type": "display_data"
    },
    {
     "name": "stderr",
     "output_type": "stream",
     "text": [
      "C:\\Users\\mathu\\Anaconda3\\lib\\site-packages\\matplotlib\\axes\\_axes.py:6462: UserWarning: The 'normed' kwarg is deprecated, and has been replaced by the 'density' kwarg.\n",
      "  warnings.warn(\"The 'normed' kwarg is deprecated, and has been \"\n",
      "No handles with labels found to put in legend.\n"
     ]
    },
    {
     "data": {
      "image/png": "[encoded data removed]",
      "text/plain": [
       "<Figure size 432x288 with 1 Axes>"
      ]
     },
     "metadata": {},
     "output_type": "display_data"
    },
    {
     "name": "stderr",
     "output_type": "stream",
     "text": [
      "C:\\Users\\mathu\\Anaconda3\\lib\\site-packages\\matplotlib\\axes\\_axes.py:6462: UserWarning: The 'normed' kwarg is deprecated, and has been replaced by the 'density' kwarg.\n",
      "  warnings.warn(\"The 'normed' kwarg is deprecated, and has been \"\n",
      "No handles with labels found to put in legend.\n"
     ]
    },
    {
     "data": {
      "image/png": "[encoded data removed]",
      "text/plain": [
       "<Figure size 432x288 with 1 Axes>"
      ]
     },
     "metadata": {},
     "output_type": "display_data"
    },
    {
     "name": "stderr",
     "output_type": "stream",
     "text": [
      "C:\\Users\\mathu\\Anaconda3\\lib\\site-packages\\matplotlib\\axes\\_axes.py:6462: UserWarning: The 'normed' kwarg is deprecated, and has been replaced by the 'density' kwarg.\n",
      "  warnings.warn(\"The 'normed' kwarg is deprecated, and has been \"\n",
      "No handles with labels found to put in legend.\n"
     ]
    },
    {
     "data": {
      "image/png": "[encoded data removed]",
      "text/plain": [
       "<Figure size 432x288 with 1 Axes>"
      ]
     },
     "metadata": {},
     "output_type": "display_data"
    },
    {
     "name": "stderr",
     "output_type": "stream",
     "text": [
      "C:\\Users\\mathu\\Anaconda3\\lib\\site-packages\\matplotlib\\axes\\_axes.py:6462: UserWarning: The 'normed' kwarg is deprecated, and has been replaced by the 'density' kwarg.\n",
      "  warnings.warn(\"The 'normed' kwarg is deprecated, and has been \"\n",
      "No handles with labels found to put in legend.\n"
     ]
    },
    {
     "data": {
      "image/png": "[encoded data removed]",
      "text/plain": [
       "<Figure size 432x288 with 1 Axes>"
      ]
     },
     "metadata": {},
     "output_type": "display_data"
    },
    {
     "name": "stderr",
     "output_type": "stream",
     "text": [
      "C:\\Users\\mathu\\Anaconda3\\lib\\site-packages\\matplotlib\\axes\\_axes.py:6462: UserWarning: The 'normed' kwarg is deprecated, and has been replaced by the 'density' kwarg.\n",
      "  warnings.warn(\"The 'normed' kwarg is deprecated, and has been \"\n",
      "No handles with labels found to put in legend.\n"
     ]
    },
    {
     "data": {
      "image/png": "[encoded data removed]",
      "text/plain": [
       "<Figure size 432x288 with 1 Axes>"
      ]
     },
     "metadata": {},
     "output_type": "display_data"
    }
   ],
   "source": [
    "num_bins = 10\n",
    "for i in num_cols:\n",
    "    plt.hist(df[i],num_bins,normed=1,facecolor='blue',alpha=0.7)\n",
    "    plt.ylabel(i)\n",
    "    plt.title(\"Data Distribution for \" + i)\n",
    "    plt.legend()\n",
    "    plt.grid()\n",
    "    plt.show()"
   ]
  },
  {
   "cell_type": "code",
   "execution_count": 13,
   "metadata": {},
   "outputs": [
    {
     "name": "stderr",
     "output_type": "stream",
     "text": [
      "C:\\Users\\mathu\\Anaconda3\\lib\\site-packages\\matplotlib\\axes\\_axes.py:6462: UserWarning: The 'normed' kwarg is deprecated, and has been replaced by the 'density' kwarg.\n",
      "  warnings.warn(\"The 'normed' kwarg is deprecated, and has been \"\n"
     ]
    },
    {
     "data": {
      "image/png": "[encoded data removed]",
      "text/plain": [
       "<Figure size 432x288 with 1 Axes>"
      ]
     },
     "metadata": {},
     "output_type": "display_data"
    }
   ],
   "source": [
    "sns.distplot(df[num_cols[0]], color='g', bins=100, kde_kws={\"color\": \"k\", \"lw\": 3, \"label\": num_cols[0]},\n",
    "             hist_kws={'alpha': 0.4});"
   ]
  },
  {
   "cell_type": "code",
   "execution_count": 14,
   "metadata": {},
   "outputs": [
    {
     "name": "stderr",
     "output_type": "stream",
     "text": [
      "C:\\Users\\mathu\\Anaconda3\\lib\\site-packages\\matplotlib\\axes\\_axes.py:6462: UserWarning: The 'normed' kwarg is deprecated, and has been replaced by the 'density' kwarg.\n",
      "  warnings.warn(\"The 'normed' kwarg is deprecated, and has been \"\n"
     ]
    },
    {
     "data": {
      "image/png": "[encoded data removed]",
      "text/plain": [
       "<Figure size 432x288 with 1 Axes>"
      ]
     },
     "metadata": {},
     "output_type": "display_data"
    }
   ],
   "source": [
    "sns.distplot(df[num_cols[1]], color='r', bins=100, kde_kws={\"color\": \"k\", \"lw\": 3, \"label\": num_cols[1]},\n",
    "             hist_kws={'alpha': 0.4});"
   ]
  },
  {
   "cell_type": "code",
   "execution_count": 15,
   "metadata": {},
   "outputs": [
    {
     "name": "stderr",
     "output_type": "stream",
     "text": [
      "C:\\Users\\mathu\\Anaconda3\\lib\\site-packages\\matplotlib\\axes\\_axes.py:6462: UserWarning: The 'normed' kwarg is deprecated, and has been replaced by the 'density' kwarg.\n",
      "  warnings.warn(\"The 'normed' kwarg is deprecated, and has been \"\n"
     ]
    },
    {
     "data": {
      "image/png": "[encoded data removed]",
      "text/plain": [
       "<Figure size 432x288 with 1 Axes>"
      ]
     },
     "metadata": {},
     "output_type": "display_data"
    }
   ],
   "source": [
    "sns.distplot(df[num_cols[2]], color='b', bins=100, kde_kws={\"color\": \"k\", \"lw\": 3, \"label\": num_cols[2]},\n",
    "             hist_kws={'alpha': 0.4});"
   ]
  },
  {
   "cell_type": "code",
   "execution_count": 16,
   "metadata": {},
   "outputs": [
    {
     "name": "stderr",
     "output_type": "stream",
     "text": [
      "C:\\Users\\mathu\\Anaconda3\\lib\\site-packages\\matplotlib\\axes\\_axes.py:6462: UserWarning: The 'normed' kwarg is deprecated, and has been replaced by the 'density' kwarg.\n",
      "  warnings.warn(\"The 'normed' kwarg is deprecated, and has been \"\n"
     ]
    },
    {
     "data": {
      "image/png": "[encoded data removed]",
      "text/plain": [
       "<Figure size 432x288 with 1 Axes>"
      ]
     },
     "metadata": {},
     "output_type": "display_data"
    }
   ],
   "source": [
    "sns.distplot(df[num_cols[3]], color='r', bins=100, kde_kws={\"color\": \"k\", \"lw\": 3, \"label\": num_cols[3]},\n",
    "             hist_kws={'alpha': 0.4});"
   ]
  },
  {
   "cell_type": "code",
   "execution_count": 17,
   "metadata": {},
   "outputs": [
    {
     "name": "stderr",
     "output_type": "stream",
     "text": [
      "C:\\Users\\mathu\\Anaconda3\\lib\\site-packages\\matplotlib\\axes\\_axes.py:6462: UserWarning: The 'normed' kwarg is deprecated, and has been replaced by the 'density' kwarg.\n",
      "  warnings.warn(\"The 'normed' kwarg is deprecated, and has been \"\n"
     ]
    },
    {
     "data": {
      "image/png": "[encoded data removed]",
      "text/plain": [
       "<Figure size 432x288 with 1 Axes>"
      ]
     },
     "metadata": {},
     "output_type": "display_data"
    }
   ],
   "source": [
    "sns.distplot(df[num_cols[4]], color='b', bins=100, kde_kws={\"color\": \"k\", \"lw\": 3, \"label\": num_cols[4]},\n",
    "             hist_kws={'alpha': 0.4});"
   ]
  },
  {
   "cell_type": "code",
   "execution_count": 18,
   "metadata": {},
   "outputs": [],
   "source": [
    "from sklearn.model_selection import train_test_split\n",
    "from sklearn import metrics\n",
    "from sklearn.linear_model import LinearRegression\n",
    "from sklearn.neighbors import KNeighborsRegressor\n",
    "from sklearn.svm import SVC\n",
    "from sklearn.ensemble import RandomForestRegressor\n",
    "from sklearn.neural_network import MLPRegressor"
   ]
  },
  {
   "cell_type": "code",
   "execution_count": 19,
   "metadata": {},
   "outputs": [],
   "source": [
    "Y = pd.DataFrame(df['y'])\n",
    "df = df.drop(['y'], axis=1)\n",
    "X = df\n",
    "X_train, X_test, y_train, y_test = train_test_split(X, Y, test_size=0.33, random_state=42)"
   ]
  },
  {
   "cell_type": "code",
   "execution_count": 20,
   "metadata": {},
   "outputs": [],
   "source": [
    "X_train = X_train.drop(['Player1_id'], axis=1)\n",
    "X_train = X_train.drop(['Player1_name'], axis=1)\n",
    "X_train = X_train.drop(['Player2_id'], axis=1)\n",
    "X_train = X_train.drop(['Player2_name'], axis=1)"
   ]
  },
  {
   "cell_type": "code",
   "execution_count": 21,
   "metadata": {},
   "outputs": [],
   "source": [
    "test_names = []\n",
    "for index, row in X_test.iterrows():\n",
    "    v = []\n",
    "    v.append(row['Player1_name'])\n",
    "    v.append(row['Player2_name'])\n",
    "    test_names.append(v)"
   ]
  },
  {
   "cell_type": "code",
   "execution_count": 22,
   "metadata": {},
   "outputs": [],
   "source": [
    "X_test = X_test.drop(['Player1_id'], axis=1)\n",
    "X_test = X_test.drop(['Player1_name'], axis=1)\n",
    "X_test = X_test.drop(['Player2_id'], axis=1)\n",
    "X_test = X_test.drop(['Player2_name'], axis=1)"
   ]
  },
  {
   "cell_type": "code",
   "execution_count": 23,
   "metadata": {},
   "outputs": [],
   "source": [
    "import operator\n",
    "def getWinner(preds):\n",
    "    dic = {}\n",
    "    \n",
    "    for i in range(len(preds)):\n",
    "        w = ''\n",
    "        if(preds[i]==0):\n",
    "            w = test_names[i][0]\n",
    "        else:\n",
    "            w = test_names[i][1]\n",
    "        if w in dic:\n",
    "            dic[w] = dic[w]+1\n",
    "        else:\n",
    "            dic[w] = 1\n",
    "    winner = max(dic.items(), key=operator.itemgetter(1))[0]\n",
    "    return winner"
   ]
  },
  {
   "cell_type": "markdown",
   "metadata": {},
   "source": [
    "## RandomForestClassifier"
   ]
  },
  {
   "cell_type": "code",
   "execution_count": 24,
   "metadata": {},
   "outputs": [],
   "source": [
    "from sklearn.ensemble import RandomForestClassifier\n",
    "def randomForest(est,dep):\n",
    "    print(\"Random Forest\")\n",
    "    rdforest = RandomForestClassifier(n_estimators=est,max_depth=dep)\n",
    "    rdforest.fit(X_train, y_train)\n",
    "    rdpreds = rdforest.predict(X_test)\n",
    "    print (\"\\tMean Squared Error: \",metrics.mean_squared_error(y_test,rdpreds))\n",
    "    print (\"\\tR2 Score: \",metrics.r2_score(y_test,rdpreds))\n",
    "    print (\"\\tTraining Accuracy: \",rdforest.score(X_train, y_train)*100)\n",
    "    print (\"\\tTest Accuracy: \",metrics.accuracy_score(np.round(y_test),np.round(rdpreds))*100)\n",
    "    return rdpreds"
   ]
  },
  {
   "cell_type": "code",
   "execution_count": 25,
   "metadata": {},
   "outputs": [
    {
     "name": "stdout",
     "output_type": "stream",
     "text": [
      "Random Forest\n"
     ]
    },
    {
     "name": "stderr",
     "output_type": "stream",
     "text": [
      "C:\\Users\\mathu\\Anaconda3\\lib\\site-packages\\ipykernel_launcher.py:5: DataConversionWarning: A column-vector y was passed when a 1d array was expected. Please change the shape of y to (n_samples,), for example using ravel().\n",
      "  \"\"\"\n"
     ]
    },
    {
     "name": "stdout",
     "output_type": "stream",
     "text": [
      "\tMean Squared Error:  0.12836302565284685\n",
      "\tR2 Score:  0.4865155560793474\n",
      "\tTraining Accuracy:  96.94743159294762\n",
      "\tTest Accuracy:  87.16369743471532\n",
      "Winner:  Fabrice Santoro\n"
     ]
    }
   ],
   "source": [
    "rf_preds = randomForest(140,30)\n",
    "print(\"Winner: \",getWinner(rf_preds))"
   ]
  },
  {
   "cell_type": "markdown",
   "metadata": {},
   "source": [
    "## Logistic Regression"
   ]
  },
  {
   "cell_type": "code",
   "execution_count": 26,
   "metadata": {},
   "outputs": [],
   "source": [
    "from sklearn.linear_model import LogisticRegression\n",
    "def logisticRegression(c):\n",
    "    print(\"Logistic Regression\")\n",
    "    clf = LogisticRegression(penalty = 'l2', C = c,random_state = 0,solver='sag')\n",
    "    clf.fit(X_train, y_train)\n",
    "    y_pred = clf.predict(X_test)\n",
    "    acc = metrics.accuracy_score(y_test, y_pred)*100\n",
    "    print (\"\\tMean Squared Error:\",metrics.mean_squared_error(y_test,y_pred))\n",
    "    print (\"\\tR2 Score:\",metrics.r2_score(y_test,y_pred))\n",
    "    print (\"\\tTraining Accuracy: \",clf.score(X_train, y_train)*100)\n",
    "    print(\"\\tTest Accuracy: \",acc)\n",
    "    return y_pred\n",
    "    \n",
    "    "
   ]
  },
  {
   "cell_type": "code",
   "execution_count": 27,
   "metadata": {},
   "outputs": [
    {
     "name": "stdout",
     "output_type": "stream",
     "text": [
      "Logistic Regression\n"
     ]
    },
    {
     "name": "stderr",
     "output_type": "stream",
     "text": [
      "C:\\Users\\mathu\\Anaconda3\\lib\\site-packages\\sklearn\\utils\\validation.py:578: DataConversionWarning: A column-vector y was passed when a 1d array was expected. Please change the shape of y to (n_samples, ), for example using ravel().\n",
      "  y = column_or_1d(y, warn=True)\n",
      "C:\\Users\\mathu\\Anaconda3\\lib\\site-packages\\sklearn\\linear_model\\sag.py:326: ConvergenceWarning: The max_iter was reached which means the coef_ did not converge\n",
      "  \"the coef_ did not converge\", ConvergenceWarning)\n"
     ]
    },
    {
     "name": "stdout",
     "output_type": "stream",
     "text": [
      "\tMean Squared Error: 0.1092304145947904\n",
      "\tR2 Score: 0.5630508208094396\n",
      "\tTraining Accuracy:  89.52849009780546\n",
      "\tTest Accuracy:  89.07695854052096\n",
      "Winner:  Andreas Seppi\n"
     ]
    }
   ],
   "source": [
    "lr_preds = logisticRegression(95)\n",
    "print(\"Winner: \",getWinner(lr_preds))"
   ]
  },
  {
   "cell_type": "markdown",
   "metadata": {},
   "source": [
    "## Neural Network"
   ]
  },
  {
   "cell_type": "code",
   "execution_count": 28,
   "metadata": {},
   "outputs": [],
   "source": [
    "from sklearn.neural_network import MLPClassifier\n",
    "def NeuralNetwork(hl,iterations,Alpha,optimizer):\n",
    "    print(\"Neural Network\")\n",
    "    clfmlp = MLPClassifier(hidden_layer_sizes=hl, max_iter=iterations, alpha=Alpha,\n",
    "                     solver=optimizer, verbose=10,  random_state=21,tol=0.000000001)\n",
    "    clfmlp.fit(X_train, y_train)\n",
    "    mlp_preds = clfmlp.predict(X_test)\n",
    "    print(\"mlp_preds: \",mlp_preds)\n",
    "    print (\"\\tMean Squared Error: \",metrics.mean_squared_error(y_test,mlp_preds))\n",
    "    print (\"\\tR2 Score: \",metrics.r2_score(y_test,mlp_preds))\n",
    "    print (\"\\tTraining Accuracy: \",clfmlp.score(X_train, y_train)*100)\n",
    "    print (\"\\tTest Accuracy: \",metrics.accuracy_score(np.round(y_test),np.round(mlp_preds))*100)\n",
    "    return mlp_preds\n",
    "    "
   ]
  },
  {
   "cell_type": "code",
   "execution_count": 29,
   "metadata": {},
   "outputs": [
    {
     "name": "stdout",
     "output_type": "stream",
     "text": [
      "Neural Network\n"
     ]
    },
    {
     "name": "stderr",
     "output_type": "stream",
     "text": [
      "C:\\Users\\mathu\\Anaconda3\\lib\\site-packages\\sklearn\\neural_network\\multilayer_perceptron.py:912: DataConversionWarning: A column-vector y was passed when a 1d array was expected. Please change the shape of y to (n_samples, ), for example using ravel().\n",
      "  y = column_or_1d(y, warn=True)\n"
     ]
    },
    {
     "name": "stdout",
     "output_type": "stream",
     "text": [
      "Iteration 1, loss = 0.35859207\n",
      "Iteration 2, loss = 0.24628658\n",
      "Iteration 3, loss = 0.21589772\n",
      "Iteration 4, loss = 0.20071387\n",
      "Iteration 5, loss = 0.18805685\n",
      "Iteration 6, loss = 0.17977184\n",
      "Iteration 7, loss = 0.16694553\n",
      "Iteration 8, loss = 0.16046876\n",
      "Iteration 9, loss = 0.15155859\n",
      "Iteration 10, loss = 0.14414165\n",
      "Iteration 11, loss = 0.13700504\n",
      "Iteration 12, loss = 0.13115399\n",
      "Iteration 13, loss = 0.12497110\n",
      "Iteration 14, loss = 0.11814265\n",
      "Iteration 15, loss = 0.11544081\n",
      "Iteration 16, loss = 0.10819804\n",
      "Iteration 17, loss = 0.10381094\n",
      "Iteration 18, loss = 0.10016148\n",
      "Iteration 19, loss = 0.09437833\n",
      "Iteration 20, loss = 0.08969916\n",
      "Iteration 21, loss = 0.08808914\n",
      "Iteration 22, loss = 0.08276787\n",
      "Iteration 23, loss = 0.08042439\n",
      "Iteration 24, loss = 0.07544669\n",
      "Iteration 25, loss = 0.07165453\n",
      "Iteration 26, loss = 0.07073701\n",
      "Iteration 27, loss = 0.06820196\n",
      "Iteration 28, loss = 0.06406655\n",
      "Iteration 29, loss = 0.05756629\n",
      "Iteration 30, loss = 0.06204408\n",
      "Iteration 31, loss = 0.05695836\n",
      "Iteration 32, loss = 0.05729013\n",
      "Iteration 33, loss = 0.04966675\n",
      "Iteration 34, loss = 0.04949320\n",
      "Iteration 35, loss = 0.04931813\n",
      "Iteration 36, loss = 0.04948225\n",
      "Iteration 37, loss = 0.04676505\n",
      "Iteration 38, loss = 0.04501968\n",
      "Iteration 39, loss = 0.04197008\n",
      "Iteration 40, loss = 0.04132279\n",
      "Iteration 41, loss = 0.03958643\n",
      "Iteration 42, loss = 0.03946595\n",
      "Iteration 43, loss = 0.03786232\n",
      "Iteration 44, loss = 0.03802019\n",
      "Iteration 45, loss = 0.03561217\n",
      "Iteration 46, loss = 0.03241673\n",
      "Iteration 47, loss = 0.03464826\n",
      "Iteration 48, loss = 0.03211955\n",
      "Iteration 49, loss = 0.03221005\n",
      "Iteration 50, loss = 0.03273619\n",
      "Iteration 51, loss = 0.03112893\n",
      "Iteration 52, loss = 0.02849819\n",
      "Iteration 53, loss = 0.03021680\n",
      "Iteration 54, loss = 0.02555411\n",
      "Iteration 55, loss = 0.02602160\n",
      "Iteration 56, loss = 0.02537236\n",
      "Iteration 57, loss = 0.02369764\n",
      "Iteration 58, loss = 0.03195850\n",
      "Iteration 59, loss = 0.02709603\n",
      "Iteration 60, loss = 0.02184609\n",
      "Iteration 61, loss = 0.02200340\n",
      "Iteration 62, loss = 0.02349094\n",
      "Iteration 63, loss = 0.02299808\n",
      "Training loss did not improve more than tol=0.000000 for two consecutive epochs. Stopping.\n",
      "mlp_preds:  [0 1 1 ... 0 1 1]\n",
      "\tMean Squared Error:  0.09418118352158593\n",
      "\tR2 Score:  0.6232515367847443\n",
      "\tTraining Accuracy:  99.47123416540963\n",
      "\tTest Accuracy:  90.58188164784141\n",
      "Winner:  Andreas Seppi\n"
     ]
    }
   ],
   "source": [
    "hidden_layer = (100,100,100)\n",
    "iterations = 500\n",
    "alpha = 0.0001\n",
    "opt = 'adam'\n",
    "mlpreds = NeuralNetwork(hidden_layer,iterations,alpha,opt)\n",
    "print(\"Winner: \",getWinner(lr_preds))"
   ]
  },
  {
   "cell_type": "markdown",
   "metadata": {},
   "source": [
    "## Naive Bayes"
   ]
  },
  {
   "cell_type": "code",
   "execution_count": 30,
   "metadata": {},
   "outputs": [],
   "source": [
    "from sklearn.naive_bayes import GaussianNB\n",
    "\n",
    "def naiveBayes():\n",
    "    print(\"Naive Bayes\")\n",
    "    gnb = GaussianNB()\n",
    "    y_pred = gnb.fit(X_train, y_train).predict(X_test)\n",
    "    print (\"\\tMean Squared Error: \",metrics.mean_squared_error(y_test,y_pred))\n",
    "    print (\"\\tR2 Score: \",metrics.r2_score(y_test,y_pred))\n",
    "    print (\"\\tTraining Accuracy: \",gnb.score(X_train, y_train)*100)\n",
    "    print(\"\\tTest Accuracy: \",metrics.accuracy_score(y_test, y_pred)*100)\n",
    "    return y_pred"
   ]
  },
  {
   "cell_type": "code",
   "execution_count": 31,
   "metadata": {},
   "outputs": [
    {
     "name": "stdout",
     "output_type": "stream",
     "text": [
      "Naive Bayes\n"
     ]
    },
    {
     "name": "stderr",
     "output_type": "stream",
     "text": [
      "C:\\Users\\mathu\\Anaconda3\\lib\\site-packages\\sklearn\\utils\\validation.py:578: DataConversionWarning: A column-vector y was passed when a 1d array was expected. Please change the shape of y to (n_samples, ), for example using ravel().\n",
      "  y = column_or_1d(y, warn=True)\n"
     ]
    },
    {
     "name": "stdout",
     "output_type": "stream",
     "text": [
      "\tMean Squared Error:  0.33440906246912766\n",
      "\tR2 Score:  -0.33772050487794436\n",
      "\tTraining Accuracy:  66.32767261933726\n",
      "\tTest Accuracy:  66.55909375308723\n",
      "Winner:  Roger Federer\n"
     ]
    }
   ],
   "source": [
    "nb_preds = naiveBayes()\n",
    "print(\"Winner: \",getWinner(nb_preds))"
   ]
  },
  {
   "cell_type": "code",
   "execution_count": null,
   "metadata": {},
   "outputs": [],
   "source": []
  },
  {
   "cell_type": "code",
   "execution_count": null,
   "metadata": {},
   "outputs": [],
   "source": []
  },
  {
   "cell_type": "code",
   "execution_count": null,
   "metadata": {},
   "outputs": [],
   "source": []
  }
 ],
 "metadata": {
  "kernelspec": {
   "display_name": "Python 3",
   "language": "python",
   "name": "python3"
  },
  "language_info": {
   "codemirror_mode": {
    "name": "ipython",
    "version": 3
   },
   "file_extension": ".py",
   "mimetype": "text/x-python",
   "name": "python",
   "nbconvert_exporter": "python",
   "pygments_lexer": "ipython3",
   "version": "3.6.5"
  }
 },
 "nbformat": 4,
 "nbformat_minor": 2
}
